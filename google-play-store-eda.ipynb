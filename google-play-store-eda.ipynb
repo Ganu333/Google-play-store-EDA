{
 "cells": [
  {
   "cell_type": "markdown",
   "id": "4b4afab7",
   "metadata": {
    "papermill": {
     "duration": 0.015452,
     "end_time": "2023-05-03T11:41:45.112847",
     "exception": false,
     "start_time": "2023-05-03T11:41:45.097395",
     "status": "completed"
    },
    "tags": []
   },
   "source": [
    "# Performing Exploratory Data Analysis to understand the dataset"
   ]
  },
  {
   "cell_type": "markdown",
   "id": "388498f4",
   "metadata": {
    "papermill": {
     "duration": 0.012998,
     "end_time": "2023-05-03T11:41:45.139696",
     "exception": false,
     "start_time": "2023-05-03T11:41:45.126698",
     "status": "completed"
    },
    "tags": []
   },
   "source": [
    "**Tasks to be performed :-**\n",
    "\n",
    "* Understand the dataset, types and missing values\n",
    "* Clean the dataset and handle the missing values,duplicate values,etc\n",
    "* Perform data visualization on datset\n",
    "* Create final summary report with conclusions"
   ]
  },
  {
   "cell_type": "markdown",
   "id": "a41c7130",
   "metadata": {
    "papermill": {
     "duration": 0.012836,
     "end_time": "2023-05-03T11:41:45.165930",
     "exception": false,
     "start_time": "2023-05-03T11:41:45.153094",
     "status": "completed"
    },
    "tags": []
   },
   "source": [
    "# Google play store Dataset"
   ]
  },
  {
   "cell_type": "markdown",
   "id": "c2000d8f",
   "metadata": {
    "papermill": {
     "duration": 0.01301,
     "end_time": "2023-05-03T11:41:45.192610",
     "exception": false,
     "start_time": "2023-05-03T11:41:45.179600",
     "status": "completed"
    },
    "tags": []
   },
   "source": [
    "**Intoduction**\n",
    "\n",
    "\n",
    "The dataset contain App,Category,Rating,Reviews,Size,Installs,Type,Price,Content Rating,Genres,Last Updated,Current Ver,Android Ver.\n",
    "\n",
    "I have work on the fallowing Raw Datset : /kaggle/input/google-play-store-apps/googleplaystore.csv\n",
    "\n",
    "There are several steps for getting dataset into kaggle:\n",
    "\n",
    "Download the CSV file manually read it with the help of read_csv Use a helper liabraries example pandas,numpy,seaborn,matplotlib"
   ]
  },
  {
   "cell_type": "markdown",
   "id": "2da99239",
   "metadata": {
    "papermill": {
     "duration": 0.013565,
     "end_time": "2023-05-03T11:41:45.219513",
     "exception": false,
     "start_time": "2023-05-03T11:41:45.205948",
     "status": "completed"
    },
    "tags": []
   },
   "source": [
    "# 1) **Importing Libraries**"
   ]
  },
  {
   "cell_type": "code",
   "execution_count": 1,
   "id": "905b0e4b",
   "metadata": {
    "execution": {
     "iopub.execute_input": "2023-05-03T11:41:45.248327Z",
     "iopub.status.busy": "2023-05-03T11:41:45.247602Z",
     "iopub.status.idle": "2023-05-03T11:41:46.224675Z",
     "shell.execute_reply": "2023-05-03T11:41:46.223539Z"
    },
    "papermill": {
     "duration": 0.994827,
     "end_time": "2023-05-03T11:41:46.227653",
     "exception": false,
     "start_time": "2023-05-03T11:41:45.232826",
     "status": "completed"
    },
    "tags": []
   },
   "outputs": [],
   "source": [
    "import numpy as np\n",
    "import pandas as pd\n",
    "import matplotlib.pyplot as plt\n",
    "from matplotlib.pyplot import figure\n",
    "import seaborn as sns\n",
    "import warnings\n",
    "warnings.simplefilter(\"ignore\")"
   ]
  },
  {
   "cell_type": "markdown",
   "id": "5be0f7ce",
   "metadata": {
    "papermill": {
     "duration": 0.013211,
     "end_time": "2023-05-03T11:41:46.254795",
     "exception": false,
     "start_time": "2023-05-03T11:41:46.241584",
     "status": "completed"
    },
    "tags": []
   },
   "source": [
    "# 2) **Importing Dataset**"
   ]
  },
  {
   "cell_type": "code",
   "execution_count": 2,
   "id": "b55b21f2",
   "metadata": {
    "execution": {
     "iopub.execute_input": "2023-05-03T11:41:46.283421Z",
     "iopub.status.busy": "2023-05-03T11:41:46.282987Z",
     "iopub.status.idle": "2023-05-03T11:41:46.395609Z",
     "shell.execute_reply": "2023-05-03T11:41:46.394450Z"
    },
    "papermill": {
     "duration": 0.129833,
     "end_time": "2023-05-03T11:41:46.398067",
     "exception": false,
     "start_time": "2023-05-03T11:41:46.268234",
     "status": "completed"
    },
    "tags": []
   },
   "outputs": [
    {
     "data": {
      "text/html": [
       "<div>\n",
       "<style scoped>\n",
       "    .dataframe tbody tr th:only-of-type {\n",
       "        vertical-align: middle;\n",
       "    }\n",
       "\n",
       "    .dataframe tbody tr th {\n",
       "        vertical-align: top;\n",
       "    }\n",
       "\n",
       "    .dataframe thead th {\n",
       "        text-align: right;\n",
       "    }\n",
       "</style>\n",
       "<table border=\"1\" class=\"dataframe\">\n",
       "  <thead>\n",
       "    <tr style=\"text-align: right;\">\n",
       "      <th></th>\n",
       "      <th>App</th>\n",
       "      <th>Category</th>\n",
       "      <th>Rating</th>\n",
       "      <th>Reviews</th>\n",
       "      <th>Size</th>\n",
       "      <th>Installs</th>\n",
       "      <th>Type</th>\n",
       "      <th>Price</th>\n",
       "      <th>Content Rating</th>\n",
       "      <th>Genres</th>\n",
       "      <th>Last Updated</th>\n",
       "      <th>Current Ver</th>\n",
       "      <th>Android Ver</th>\n",
       "    </tr>\n",
       "  </thead>\n",
       "  <tbody>\n",
       "    <tr>\n",
       "      <th>0</th>\n",
       "      <td>Photo Editor &amp; Candy Camera &amp; Grid &amp; ScrapBook</td>\n",
       "      <td>ART_AND_DESIGN</td>\n",
       "      <td>4.1</td>\n",
       "      <td>159</td>\n",
       "      <td>19M</td>\n",
       "      <td>10,000+</td>\n",
       "      <td>Free</td>\n",
       "      <td>0</td>\n",
       "      <td>Everyone</td>\n",
       "      <td>Art &amp; Design</td>\n",
       "      <td>January 7, 2018</td>\n",
       "      <td>1.0.0</td>\n",
       "      <td>4.0.3 and up</td>\n",
       "    </tr>\n",
       "    <tr>\n",
       "      <th>1</th>\n",
       "      <td>Coloring book moana</td>\n",
       "      <td>ART_AND_DESIGN</td>\n",
       "      <td>3.9</td>\n",
       "      <td>967</td>\n",
       "      <td>14M</td>\n",
       "      <td>500,000+</td>\n",
       "      <td>Free</td>\n",
       "      <td>0</td>\n",
       "      <td>Everyone</td>\n",
       "      <td>Art &amp; Design;Pretend Play</td>\n",
       "      <td>January 15, 2018</td>\n",
       "      <td>2.0.0</td>\n",
       "      <td>4.0.3 and up</td>\n",
       "    </tr>\n",
       "    <tr>\n",
       "      <th>2</th>\n",
       "      <td>U Launcher Lite – FREE Live Cool Themes, Hide ...</td>\n",
       "      <td>ART_AND_DESIGN</td>\n",
       "      <td>4.7</td>\n",
       "      <td>87510</td>\n",
       "      <td>8.7M</td>\n",
       "      <td>5,000,000+</td>\n",
       "      <td>Free</td>\n",
       "      <td>0</td>\n",
       "      <td>Everyone</td>\n",
       "      <td>Art &amp; Design</td>\n",
       "      <td>August 1, 2018</td>\n",
       "      <td>1.2.4</td>\n",
       "      <td>4.0.3 and up</td>\n",
       "    </tr>\n",
       "    <tr>\n",
       "      <th>3</th>\n",
       "      <td>Sketch - Draw &amp; Paint</td>\n",
       "      <td>ART_AND_DESIGN</td>\n",
       "      <td>4.5</td>\n",
       "      <td>215644</td>\n",
       "      <td>25M</td>\n",
       "      <td>50,000,000+</td>\n",
       "      <td>Free</td>\n",
       "      <td>0</td>\n",
       "      <td>Teen</td>\n",
       "      <td>Art &amp; Design</td>\n",
       "      <td>June 8, 2018</td>\n",
       "      <td>Varies with device</td>\n",
       "      <td>4.2 and up</td>\n",
       "    </tr>\n",
       "    <tr>\n",
       "      <th>4</th>\n",
       "      <td>Pixel Draw - Number Art Coloring Book</td>\n",
       "      <td>ART_AND_DESIGN</td>\n",
       "      <td>4.3</td>\n",
       "      <td>967</td>\n",
       "      <td>2.8M</td>\n",
       "      <td>100,000+</td>\n",
       "      <td>Free</td>\n",
       "      <td>0</td>\n",
       "      <td>Everyone</td>\n",
       "      <td>Art &amp; Design;Creativity</td>\n",
       "      <td>June 20, 2018</td>\n",
       "      <td>1.1</td>\n",
       "      <td>4.4 and up</td>\n",
       "    </tr>\n",
       "    <tr>\n",
       "      <th>...</th>\n",
       "      <td>...</td>\n",
       "      <td>...</td>\n",
       "      <td>...</td>\n",
       "      <td>...</td>\n",
       "      <td>...</td>\n",
       "      <td>...</td>\n",
       "      <td>...</td>\n",
       "      <td>...</td>\n",
       "      <td>...</td>\n",
       "      <td>...</td>\n",
       "      <td>...</td>\n",
       "      <td>...</td>\n",
       "      <td>...</td>\n",
       "    </tr>\n",
       "    <tr>\n",
       "      <th>10836</th>\n",
       "      <td>Sya9a Maroc - FR</td>\n",
       "      <td>FAMILY</td>\n",
       "      <td>4.5</td>\n",
       "      <td>38</td>\n",
       "      <td>53M</td>\n",
       "      <td>5,000+</td>\n",
       "      <td>Free</td>\n",
       "      <td>0</td>\n",
       "      <td>Everyone</td>\n",
       "      <td>Education</td>\n",
       "      <td>July 25, 2017</td>\n",
       "      <td>1.48</td>\n",
       "      <td>4.1 and up</td>\n",
       "    </tr>\n",
       "    <tr>\n",
       "      <th>10837</th>\n",
       "      <td>Fr. Mike Schmitz Audio Teachings</td>\n",
       "      <td>FAMILY</td>\n",
       "      <td>5.0</td>\n",
       "      <td>4</td>\n",
       "      <td>3.6M</td>\n",
       "      <td>100+</td>\n",
       "      <td>Free</td>\n",
       "      <td>0</td>\n",
       "      <td>Everyone</td>\n",
       "      <td>Education</td>\n",
       "      <td>July 6, 2018</td>\n",
       "      <td>1.0</td>\n",
       "      <td>4.1 and up</td>\n",
       "    </tr>\n",
       "    <tr>\n",
       "      <th>10838</th>\n",
       "      <td>Parkinson Exercices FR</td>\n",
       "      <td>MEDICAL</td>\n",
       "      <td>NaN</td>\n",
       "      <td>3</td>\n",
       "      <td>9.5M</td>\n",
       "      <td>1,000+</td>\n",
       "      <td>Free</td>\n",
       "      <td>0</td>\n",
       "      <td>Everyone</td>\n",
       "      <td>Medical</td>\n",
       "      <td>January 20, 2017</td>\n",
       "      <td>1.0</td>\n",
       "      <td>2.2 and up</td>\n",
       "    </tr>\n",
       "    <tr>\n",
       "      <th>10839</th>\n",
       "      <td>The SCP Foundation DB fr nn5n</td>\n",
       "      <td>BOOKS_AND_REFERENCE</td>\n",
       "      <td>4.5</td>\n",
       "      <td>114</td>\n",
       "      <td>Varies with device</td>\n",
       "      <td>1,000+</td>\n",
       "      <td>Free</td>\n",
       "      <td>0</td>\n",
       "      <td>Mature 17+</td>\n",
       "      <td>Books &amp; Reference</td>\n",
       "      <td>January 19, 2015</td>\n",
       "      <td>Varies with device</td>\n",
       "      <td>Varies with device</td>\n",
       "    </tr>\n",
       "    <tr>\n",
       "      <th>10840</th>\n",
       "      <td>iHoroscope - 2018 Daily Horoscope &amp; Astrology</td>\n",
       "      <td>LIFESTYLE</td>\n",
       "      <td>4.5</td>\n",
       "      <td>398307</td>\n",
       "      <td>19M</td>\n",
       "      <td>10,000,000+</td>\n",
       "      <td>Free</td>\n",
       "      <td>0</td>\n",
       "      <td>Everyone</td>\n",
       "      <td>Lifestyle</td>\n",
       "      <td>July 25, 2018</td>\n",
       "      <td>Varies with device</td>\n",
       "      <td>Varies with device</td>\n",
       "    </tr>\n",
       "  </tbody>\n",
       "</table>\n",
       "<p>10841 rows × 13 columns</p>\n",
       "</div>"
      ],
      "text/plain": [
       "                                                     App             Category  \\\n",
       "0         Photo Editor & Candy Camera & Grid & ScrapBook       ART_AND_DESIGN   \n",
       "1                                    Coloring book moana       ART_AND_DESIGN   \n",
       "2      U Launcher Lite – FREE Live Cool Themes, Hide ...       ART_AND_DESIGN   \n",
       "3                                  Sketch - Draw & Paint       ART_AND_DESIGN   \n",
       "4                  Pixel Draw - Number Art Coloring Book       ART_AND_DESIGN   \n",
       "...                                                  ...                  ...   \n",
       "10836                                   Sya9a Maroc - FR               FAMILY   \n",
       "10837                   Fr. Mike Schmitz Audio Teachings               FAMILY   \n",
       "10838                             Parkinson Exercices FR              MEDICAL   \n",
       "10839                      The SCP Foundation DB fr nn5n  BOOKS_AND_REFERENCE   \n",
       "10840      iHoroscope - 2018 Daily Horoscope & Astrology            LIFESTYLE   \n",
       "\n",
       "       Rating Reviews                Size     Installs  Type Price  \\\n",
       "0         4.1     159                 19M      10,000+  Free     0   \n",
       "1         3.9     967                 14M     500,000+  Free     0   \n",
       "2         4.7   87510                8.7M   5,000,000+  Free     0   \n",
       "3         4.5  215644                 25M  50,000,000+  Free     0   \n",
       "4         4.3     967                2.8M     100,000+  Free     0   \n",
       "...       ...     ...                 ...          ...   ...   ...   \n",
       "10836     4.5      38                 53M       5,000+  Free     0   \n",
       "10837     5.0       4                3.6M         100+  Free     0   \n",
       "10838     NaN       3                9.5M       1,000+  Free     0   \n",
       "10839     4.5     114  Varies with device       1,000+  Free     0   \n",
       "10840     4.5  398307                 19M  10,000,000+  Free     0   \n",
       "\n",
       "      Content Rating                     Genres      Last Updated  \\\n",
       "0           Everyone               Art & Design   January 7, 2018   \n",
       "1           Everyone  Art & Design;Pretend Play  January 15, 2018   \n",
       "2           Everyone               Art & Design    August 1, 2018   \n",
       "3               Teen               Art & Design      June 8, 2018   \n",
       "4           Everyone    Art & Design;Creativity     June 20, 2018   \n",
       "...              ...                        ...               ...   \n",
       "10836       Everyone                  Education     July 25, 2017   \n",
       "10837       Everyone                  Education      July 6, 2018   \n",
       "10838       Everyone                    Medical  January 20, 2017   \n",
       "10839     Mature 17+          Books & Reference  January 19, 2015   \n",
       "10840       Everyone                  Lifestyle     July 25, 2018   \n",
       "\n",
       "              Current Ver         Android Ver  \n",
       "0                   1.0.0        4.0.3 and up  \n",
       "1                   2.0.0        4.0.3 and up  \n",
       "2                   1.2.4        4.0.3 and up  \n",
       "3      Varies with device          4.2 and up  \n",
       "4                     1.1          4.4 and up  \n",
       "...                   ...                 ...  \n",
       "10836                1.48          4.1 and up  \n",
       "10837                 1.0          4.1 and up  \n",
       "10838                 1.0          2.2 and up  \n",
       "10839  Varies with device  Varies with device  \n",
       "10840  Varies with device  Varies with device  \n",
       "\n",
       "[10841 rows x 13 columns]"
      ]
     },
     "execution_count": 2,
     "metadata": {},
     "output_type": "execute_result"
    }
   ],
   "source": [
    "df=pd.read_csv(\"/kaggle/input/google-play-store-apps/googleplaystore.csv\")\n",
    "df"
   ]
  },
  {
   "cell_type": "markdown",
   "id": "597c5f80",
   "metadata": {
    "papermill": {
     "duration": 0.013699,
     "end_time": "2023-05-03T11:41:46.426164",
     "exception": false,
     "start_time": "2023-05-03T11:41:46.412465",
     "status": "completed"
    },
    "tags": []
   },
   "source": [
    "# 3) Data Cleaning"
   ]
  },
  {
   "cell_type": "markdown",
   "id": "ae6723f6",
   "metadata": {
    "papermill": {
     "duration": 0.013681,
     "end_time": "2023-05-03T11:41:46.453833",
     "exception": false,
     "start_time": "2023-05-03T11:41:46.440152",
     "status": "completed"
    },
    "tags": []
   },
   "source": [
    "**Top 5 rows**"
   ]
  },
  {
   "cell_type": "code",
   "execution_count": 3,
   "id": "f1fc4d3e",
   "metadata": {
    "execution": {
     "iopub.execute_input": "2023-05-03T11:41:46.483837Z",
     "iopub.status.busy": "2023-05-03T11:41:46.483409Z",
     "iopub.status.idle": "2023-05-03T11:41:46.502407Z",
     "shell.execute_reply": "2023-05-03T11:41:46.501162Z"
    },
    "papermill": {
     "duration": 0.036886,
     "end_time": "2023-05-03T11:41:46.504958",
     "exception": false,
     "start_time": "2023-05-03T11:41:46.468072",
     "status": "completed"
    },
    "tags": []
   },
   "outputs": [
    {
     "data": {
      "text/html": [
       "<div>\n",
       "<style scoped>\n",
       "    .dataframe tbody tr th:only-of-type {\n",
       "        vertical-align: middle;\n",
       "    }\n",
       "\n",
       "    .dataframe tbody tr th {\n",
       "        vertical-align: top;\n",
       "    }\n",
       "\n",
       "    .dataframe thead th {\n",
       "        text-align: right;\n",
       "    }\n",
       "</style>\n",
       "<table border=\"1\" class=\"dataframe\">\n",
       "  <thead>\n",
       "    <tr style=\"text-align: right;\">\n",
       "      <th></th>\n",
       "      <th>App</th>\n",
       "      <th>Category</th>\n",
       "      <th>Rating</th>\n",
       "      <th>Reviews</th>\n",
       "      <th>Size</th>\n",
       "      <th>Installs</th>\n",
       "      <th>Type</th>\n",
       "      <th>Price</th>\n",
       "      <th>Content Rating</th>\n",
       "      <th>Genres</th>\n",
       "      <th>Last Updated</th>\n",
       "      <th>Current Ver</th>\n",
       "      <th>Android Ver</th>\n",
       "    </tr>\n",
       "  </thead>\n",
       "  <tbody>\n",
       "    <tr>\n",
       "      <th>0</th>\n",
       "      <td>Photo Editor &amp; Candy Camera &amp; Grid &amp; ScrapBook</td>\n",
       "      <td>ART_AND_DESIGN</td>\n",
       "      <td>4.1</td>\n",
       "      <td>159</td>\n",
       "      <td>19M</td>\n",
       "      <td>10,000+</td>\n",
       "      <td>Free</td>\n",
       "      <td>0</td>\n",
       "      <td>Everyone</td>\n",
       "      <td>Art &amp; Design</td>\n",
       "      <td>January 7, 2018</td>\n",
       "      <td>1.0.0</td>\n",
       "      <td>4.0.3 and up</td>\n",
       "    </tr>\n",
       "    <tr>\n",
       "      <th>1</th>\n",
       "      <td>Coloring book moana</td>\n",
       "      <td>ART_AND_DESIGN</td>\n",
       "      <td>3.9</td>\n",
       "      <td>967</td>\n",
       "      <td>14M</td>\n",
       "      <td>500,000+</td>\n",
       "      <td>Free</td>\n",
       "      <td>0</td>\n",
       "      <td>Everyone</td>\n",
       "      <td>Art &amp; Design;Pretend Play</td>\n",
       "      <td>January 15, 2018</td>\n",
       "      <td>2.0.0</td>\n",
       "      <td>4.0.3 and up</td>\n",
       "    </tr>\n",
       "    <tr>\n",
       "      <th>2</th>\n",
       "      <td>U Launcher Lite – FREE Live Cool Themes, Hide ...</td>\n",
       "      <td>ART_AND_DESIGN</td>\n",
       "      <td>4.7</td>\n",
       "      <td>87510</td>\n",
       "      <td>8.7M</td>\n",
       "      <td>5,000,000+</td>\n",
       "      <td>Free</td>\n",
       "      <td>0</td>\n",
       "      <td>Everyone</td>\n",
       "      <td>Art &amp; Design</td>\n",
       "      <td>August 1, 2018</td>\n",
       "      <td>1.2.4</td>\n",
       "      <td>4.0.3 and up</td>\n",
       "    </tr>\n",
       "    <tr>\n",
       "      <th>3</th>\n",
       "      <td>Sketch - Draw &amp; Paint</td>\n",
       "      <td>ART_AND_DESIGN</td>\n",
       "      <td>4.5</td>\n",
       "      <td>215644</td>\n",
       "      <td>25M</td>\n",
       "      <td>50,000,000+</td>\n",
       "      <td>Free</td>\n",
       "      <td>0</td>\n",
       "      <td>Teen</td>\n",
       "      <td>Art &amp; Design</td>\n",
       "      <td>June 8, 2018</td>\n",
       "      <td>Varies with device</td>\n",
       "      <td>4.2 and up</td>\n",
       "    </tr>\n",
       "    <tr>\n",
       "      <th>4</th>\n",
       "      <td>Pixel Draw - Number Art Coloring Book</td>\n",
       "      <td>ART_AND_DESIGN</td>\n",
       "      <td>4.3</td>\n",
       "      <td>967</td>\n",
       "      <td>2.8M</td>\n",
       "      <td>100,000+</td>\n",
       "      <td>Free</td>\n",
       "      <td>0</td>\n",
       "      <td>Everyone</td>\n",
       "      <td>Art &amp; Design;Creativity</td>\n",
       "      <td>June 20, 2018</td>\n",
       "      <td>1.1</td>\n",
       "      <td>4.4 and up</td>\n",
       "    </tr>\n",
       "  </tbody>\n",
       "</table>\n",
       "</div>"
      ],
      "text/plain": [
       "                                                 App        Category  Rating  \\\n",
       "0     Photo Editor & Candy Camera & Grid & ScrapBook  ART_AND_DESIGN     4.1   \n",
       "1                                Coloring book moana  ART_AND_DESIGN     3.9   \n",
       "2  U Launcher Lite – FREE Live Cool Themes, Hide ...  ART_AND_DESIGN     4.7   \n",
       "3                              Sketch - Draw & Paint  ART_AND_DESIGN     4.5   \n",
       "4              Pixel Draw - Number Art Coloring Book  ART_AND_DESIGN     4.3   \n",
       "\n",
       "  Reviews  Size     Installs  Type Price Content Rating  \\\n",
       "0     159   19M      10,000+  Free     0       Everyone   \n",
       "1     967   14M     500,000+  Free     0       Everyone   \n",
       "2   87510  8.7M   5,000,000+  Free     0       Everyone   \n",
       "3  215644   25M  50,000,000+  Free     0           Teen   \n",
       "4     967  2.8M     100,000+  Free     0       Everyone   \n",
       "\n",
       "                      Genres      Last Updated         Current Ver  \\\n",
       "0               Art & Design   January 7, 2018               1.0.0   \n",
       "1  Art & Design;Pretend Play  January 15, 2018               2.0.0   \n",
       "2               Art & Design    August 1, 2018               1.2.4   \n",
       "3               Art & Design      June 8, 2018  Varies with device   \n",
       "4    Art & Design;Creativity     June 20, 2018                 1.1   \n",
       "\n",
       "    Android Ver  \n",
       "0  4.0.3 and up  \n",
       "1  4.0.3 and up  \n",
       "2  4.0.3 and up  \n",
       "3    4.2 and up  \n",
       "4    4.4 and up  "
      ]
     },
     "execution_count": 3,
     "metadata": {},
     "output_type": "execute_result"
    }
   ],
   "source": [
    "df.head()"
   ]
  },
  {
   "cell_type": "markdown",
   "id": "fb550862",
   "metadata": {
    "papermill": {
     "duration": 0.014362,
     "end_time": "2023-05-03T11:41:46.533900",
     "exception": false,
     "start_time": "2023-05-03T11:41:46.519538",
     "status": "completed"
    },
    "tags": []
   },
   "source": [
    "**Last 5 rows**"
   ]
  },
  {
   "cell_type": "code",
   "execution_count": 4,
   "id": "830e2755",
   "metadata": {
    "execution": {
     "iopub.execute_input": "2023-05-03T11:41:46.564437Z",
     "iopub.status.busy": "2023-05-03T11:41:46.564029Z",
     "iopub.status.idle": "2023-05-03T11:41:46.582458Z",
     "shell.execute_reply": "2023-05-03T11:41:46.581244Z"
    },
    "papermill": {
     "duration": 0.036448,
     "end_time": "2023-05-03T11:41:46.584809",
     "exception": false,
     "start_time": "2023-05-03T11:41:46.548361",
     "status": "completed"
    },
    "tags": []
   },
   "outputs": [
    {
     "data": {
      "text/html": [
       "<div>\n",
       "<style scoped>\n",
       "    .dataframe tbody tr th:only-of-type {\n",
       "        vertical-align: middle;\n",
       "    }\n",
       "\n",
       "    .dataframe tbody tr th {\n",
       "        vertical-align: top;\n",
       "    }\n",
       "\n",
       "    .dataframe thead th {\n",
       "        text-align: right;\n",
       "    }\n",
       "</style>\n",
       "<table border=\"1\" class=\"dataframe\">\n",
       "  <thead>\n",
       "    <tr style=\"text-align: right;\">\n",
       "      <th></th>\n",
       "      <th>App</th>\n",
       "      <th>Category</th>\n",
       "      <th>Rating</th>\n",
       "      <th>Reviews</th>\n",
       "      <th>Size</th>\n",
       "      <th>Installs</th>\n",
       "      <th>Type</th>\n",
       "      <th>Price</th>\n",
       "      <th>Content Rating</th>\n",
       "      <th>Genres</th>\n",
       "      <th>Last Updated</th>\n",
       "      <th>Current Ver</th>\n",
       "      <th>Android Ver</th>\n",
       "    </tr>\n",
       "  </thead>\n",
       "  <tbody>\n",
       "    <tr>\n",
       "      <th>10836</th>\n",
       "      <td>Sya9a Maroc - FR</td>\n",
       "      <td>FAMILY</td>\n",
       "      <td>4.5</td>\n",
       "      <td>38</td>\n",
       "      <td>53M</td>\n",
       "      <td>5,000+</td>\n",
       "      <td>Free</td>\n",
       "      <td>0</td>\n",
       "      <td>Everyone</td>\n",
       "      <td>Education</td>\n",
       "      <td>July 25, 2017</td>\n",
       "      <td>1.48</td>\n",
       "      <td>4.1 and up</td>\n",
       "    </tr>\n",
       "    <tr>\n",
       "      <th>10837</th>\n",
       "      <td>Fr. Mike Schmitz Audio Teachings</td>\n",
       "      <td>FAMILY</td>\n",
       "      <td>5.0</td>\n",
       "      <td>4</td>\n",
       "      <td>3.6M</td>\n",
       "      <td>100+</td>\n",
       "      <td>Free</td>\n",
       "      <td>0</td>\n",
       "      <td>Everyone</td>\n",
       "      <td>Education</td>\n",
       "      <td>July 6, 2018</td>\n",
       "      <td>1.0</td>\n",
       "      <td>4.1 and up</td>\n",
       "    </tr>\n",
       "    <tr>\n",
       "      <th>10838</th>\n",
       "      <td>Parkinson Exercices FR</td>\n",
       "      <td>MEDICAL</td>\n",
       "      <td>NaN</td>\n",
       "      <td>3</td>\n",
       "      <td>9.5M</td>\n",
       "      <td>1,000+</td>\n",
       "      <td>Free</td>\n",
       "      <td>0</td>\n",
       "      <td>Everyone</td>\n",
       "      <td>Medical</td>\n",
       "      <td>January 20, 2017</td>\n",
       "      <td>1.0</td>\n",
       "      <td>2.2 and up</td>\n",
       "    </tr>\n",
       "    <tr>\n",
       "      <th>10839</th>\n",
       "      <td>The SCP Foundation DB fr nn5n</td>\n",
       "      <td>BOOKS_AND_REFERENCE</td>\n",
       "      <td>4.5</td>\n",
       "      <td>114</td>\n",
       "      <td>Varies with device</td>\n",
       "      <td>1,000+</td>\n",
       "      <td>Free</td>\n",
       "      <td>0</td>\n",
       "      <td>Mature 17+</td>\n",
       "      <td>Books &amp; Reference</td>\n",
       "      <td>January 19, 2015</td>\n",
       "      <td>Varies with device</td>\n",
       "      <td>Varies with device</td>\n",
       "    </tr>\n",
       "    <tr>\n",
       "      <th>10840</th>\n",
       "      <td>iHoroscope - 2018 Daily Horoscope &amp; Astrology</td>\n",
       "      <td>LIFESTYLE</td>\n",
       "      <td>4.5</td>\n",
       "      <td>398307</td>\n",
       "      <td>19M</td>\n",
       "      <td>10,000,000+</td>\n",
       "      <td>Free</td>\n",
       "      <td>0</td>\n",
       "      <td>Everyone</td>\n",
       "      <td>Lifestyle</td>\n",
       "      <td>July 25, 2018</td>\n",
       "      <td>Varies with device</td>\n",
       "      <td>Varies with device</td>\n",
       "    </tr>\n",
       "  </tbody>\n",
       "</table>\n",
       "</div>"
      ],
      "text/plain": [
       "                                                 App             Category  \\\n",
       "10836                               Sya9a Maroc - FR               FAMILY   \n",
       "10837               Fr. Mike Schmitz Audio Teachings               FAMILY   \n",
       "10838                         Parkinson Exercices FR              MEDICAL   \n",
       "10839                  The SCP Foundation DB fr nn5n  BOOKS_AND_REFERENCE   \n",
       "10840  iHoroscope - 2018 Daily Horoscope & Astrology            LIFESTYLE   \n",
       "\n",
       "       Rating Reviews                Size     Installs  Type Price  \\\n",
       "10836     4.5      38                 53M       5,000+  Free     0   \n",
       "10837     5.0       4                3.6M         100+  Free     0   \n",
       "10838     NaN       3                9.5M       1,000+  Free     0   \n",
       "10839     4.5     114  Varies with device       1,000+  Free     0   \n",
       "10840     4.5  398307                 19M  10,000,000+  Free     0   \n",
       "\n",
       "      Content Rating             Genres      Last Updated         Current Ver  \\\n",
       "10836       Everyone          Education     July 25, 2017                1.48   \n",
       "10837       Everyone          Education      July 6, 2018                 1.0   \n",
       "10838       Everyone            Medical  January 20, 2017                 1.0   \n",
       "10839     Mature 17+  Books & Reference  January 19, 2015  Varies with device   \n",
       "10840       Everyone          Lifestyle     July 25, 2018  Varies with device   \n",
       "\n",
       "              Android Ver  \n",
       "10836          4.1 and up  \n",
       "10837          4.1 and up  \n",
       "10838          2.2 and up  \n",
       "10839  Varies with device  \n",
       "10840  Varies with device  "
      ]
     },
     "execution_count": 4,
     "metadata": {},
     "output_type": "execute_result"
    }
   ],
   "source": [
    "df.tail()"
   ]
  },
  {
   "cell_type": "markdown",
   "id": "5857f518",
   "metadata": {
    "papermill": {
     "duration": 0.014345,
     "end_time": "2023-05-03T11:41:46.614046",
     "exception": false,
     "start_time": "2023-05-03T11:41:46.599701",
     "status": "completed"
    },
    "tags": []
   },
   "source": [
    "**Checking Columns**"
   ]
  },
  {
   "cell_type": "code",
   "execution_count": 5,
   "id": "7f8ec21b",
   "metadata": {
    "execution": {
     "iopub.execute_input": "2023-05-03T11:41:46.645281Z",
     "iopub.status.busy": "2023-05-03T11:41:46.644892Z",
     "iopub.status.idle": "2023-05-03T11:41:46.652070Z",
     "shell.execute_reply": "2023-05-03T11:41:46.650933Z"
    },
    "papermill": {
     "duration": 0.025553,
     "end_time": "2023-05-03T11:41:46.654350",
     "exception": false,
     "start_time": "2023-05-03T11:41:46.628797",
     "status": "completed"
    },
    "tags": []
   },
   "outputs": [
    {
     "data": {
      "text/plain": [
       "Index(['App', 'Category', 'Rating', 'Reviews', 'Size', 'Installs', 'Type',\n",
       "       'Price', 'Content Rating', 'Genres', 'Last Updated', 'Current Ver',\n",
       "       'Android Ver'],\n",
       "      dtype='object')"
      ]
     },
     "execution_count": 5,
     "metadata": {},
     "output_type": "execute_result"
    }
   ],
   "source": [
    "df.columns"
   ]
  },
  {
   "cell_type": "markdown",
   "id": "1158194d",
   "metadata": {
    "papermill": {
     "duration": 0.014465,
     "end_time": "2023-05-03T11:41:46.683772",
     "exception": false,
     "start_time": "2023-05-03T11:41:46.669307",
     "status": "completed"
    },
    "tags": []
   },
   "source": [
    "**Check info**"
   ]
  },
  {
   "cell_type": "code",
   "execution_count": 6,
   "id": "c79ab5a5",
   "metadata": {
    "execution": {
     "iopub.execute_input": "2023-05-03T11:41:46.715184Z",
     "iopub.status.busy": "2023-05-03T11:41:46.714804Z",
     "iopub.status.idle": "2023-05-03T11:41:46.742962Z",
     "shell.execute_reply": "2023-05-03T11:41:46.741803Z"
    },
    "papermill": {
     "duration": 0.047247,
     "end_time": "2023-05-03T11:41:46.745899",
     "exception": false,
     "start_time": "2023-05-03T11:41:46.698652",
     "status": "completed"
    },
    "tags": []
   },
   "outputs": [
    {
     "name": "stdout",
     "output_type": "stream",
     "text": [
      "<class 'pandas.core.frame.DataFrame'>\n",
      "RangeIndex: 10841 entries, 0 to 10840\n",
      "Data columns (total 13 columns):\n",
      " #   Column          Non-Null Count  Dtype  \n",
      "---  ------          --------------  -----  \n",
      " 0   App             10841 non-null  object \n",
      " 1   Category        10841 non-null  object \n",
      " 2   Rating          9367 non-null   float64\n",
      " 3   Reviews         10841 non-null  object \n",
      " 4   Size            10841 non-null  object \n",
      " 5   Installs        10841 non-null  object \n",
      " 6   Type            10840 non-null  object \n",
      " 7   Price           10841 non-null  object \n",
      " 8   Content Rating  10840 non-null  object \n",
      " 9   Genres          10841 non-null  object \n",
      " 10  Last Updated    10841 non-null  object \n",
      " 11  Current Ver     10833 non-null  object \n",
      " 12  Android Ver     10838 non-null  object \n",
      "dtypes: float64(1), object(12)\n",
      "memory usage: 1.1+ MB\n"
     ]
    }
   ],
   "source": [
    "df.info()"
   ]
  },
  {
   "cell_type": "markdown",
   "id": "73a697e4",
   "metadata": {
    "papermill": {
     "duration": 0.01487,
     "end_time": "2023-05-03T11:41:46.776063",
     "exception": false,
     "start_time": "2023-05-03T11:41:46.761193",
     "status": "completed"
    },
    "tags": []
   },
   "source": [
    "* We see that there is null values in **Rating ,Type ,Content rating ,Current ver, Android ver** columns\n"
   ]
  },
  {
   "cell_type": "markdown",
   "id": "e3f9b6ad",
   "metadata": {
    "papermill": {
     "duration": 0.014656,
     "end_time": "2023-05-03T11:41:46.806005",
     "exception": false,
     "start_time": "2023-05-03T11:41:46.791349",
     "status": "completed"
    },
    "tags": []
   },
   "source": [
    "# 5) Get statistical overview of the dataset"
   ]
  },
  {
   "cell_type": "code",
   "execution_count": 7,
   "id": "19c36235",
   "metadata": {
    "execution": {
     "iopub.execute_input": "2023-05-03T11:41:46.838167Z",
     "iopub.status.busy": "2023-05-03T11:41:46.837736Z",
     "iopub.status.idle": "2023-05-03T11:41:46.855370Z",
     "shell.execute_reply": "2023-05-03T11:41:46.854412Z"
    },
    "papermill": {
     "duration": 0.036429,
     "end_time": "2023-05-03T11:41:46.857452",
     "exception": false,
     "start_time": "2023-05-03T11:41:46.821023",
     "status": "completed"
    },
    "tags": []
   },
   "outputs": [
    {
     "data": {
      "text/html": [
       "<div>\n",
       "<style scoped>\n",
       "    .dataframe tbody tr th:only-of-type {\n",
       "        vertical-align: middle;\n",
       "    }\n",
       "\n",
       "    .dataframe tbody tr th {\n",
       "        vertical-align: top;\n",
       "    }\n",
       "\n",
       "    .dataframe thead th {\n",
       "        text-align: right;\n",
       "    }\n",
       "</style>\n",
       "<table border=\"1\" class=\"dataframe\">\n",
       "  <thead>\n",
       "    <tr style=\"text-align: right;\">\n",
       "      <th></th>\n",
       "      <th>Rating</th>\n",
       "    </tr>\n",
       "  </thead>\n",
       "  <tbody>\n",
       "    <tr>\n",
       "      <th>count</th>\n",
       "      <td>9367.000000</td>\n",
       "    </tr>\n",
       "    <tr>\n",
       "      <th>mean</th>\n",
       "      <td>4.193338</td>\n",
       "    </tr>\n",
       "    <tr>\n",
       "      <th>std</th>\n",
       "      <td>0.537431</td>\n",
       "    </tr>\n",
       "    <tr>\n",
       "      <th>min</th>\n",
       "      <td>1.000000</td>\n",
       "    </tr>\n",
       "    <tr>\n",
       "      <th>25%</th>\n",
       "      <td>4.000000</td>\n",
       "    </tr>\n",
       "    <tr>\n",
       "      <th>50%</th>\n",
       "      <td>4.300000</td>\n",
       "    </tr>\n",
       "    <tr>\n",
       "      <th>75%</th>\n",
       "      <td>4.500000</td>\n",
       "    </tr>\n",
       "    <tr>\n",
       "      <th>max</th>\n",
       "      <td>19.000000</td>\n",
       "    </tr>\n",
       "  </tbody>\n",
       "</table>\n",
       "</div>"
      ],
      "text/plain": [
       "            Rating\n",
       "count  9367.000000\n",
       "mean      4.193338\n",
       "std       0.537431\n",
       "min       1.000000\n",
       "25%       4.000000\n",
       "50%       4.300000\n",
       "75%       4.500000\n",
       "max      19.000000"
      ]
     },
     "execution_count": 7,
     "metadata": {},
     "output_type": "execute_result"
    }
   ],
   "source": [
    "df.describe()"
   ]
  },
  {
   "cell_type": "markdown",
   "id": "58fe3074",
   "metadata": {
    "papermill": {
     "duration": 0.015615,
     "end_time": "2023-05-03T11:41:46.888375",
     "exception": false,
     "start_time": "2023-05-03T11:41:46.872760",
     "status": "completed"
    },
    "tags": []
   },
   "source": [
    "# 6) Finding shape of the data set (Number of Rows and Columns)"
   ]
  },
  {
   "cell_type": "code",
   "execution_count": 8,
   "id": "457fef06",
   "metadata": {
    "execution": {
     "iopub.execute_input": "2023-05-03T11:41:46.921424Z",
     "iopub.status.busy": "2023-05-03T11:41:46.920256Z",
     "iopub.status.idle": "2023-05-03T11:41:46.927638Z",
     "shell.execute_reply": "2023-05-03T11:41:46.926526Z"
    },
    "papermill": {
     "duration": 0.026208,
     "end_time": "2023-05-03T11:41:46.929924",
     "exception": false,
     "start_time": "2023-05-03T11:41:46.903716",
     "status": "completed"
    },
    "tags": []
   },
   "outputs": [
    {
     "data": {
      "text/plain": [
       "(10841, 13)"
      ]
     },
     "execution_count": 8,
     "metadata": {},
     "output_type": "execute_result"
    }
   ],
   "source": [
    "df.shape"
   ]
  },
  {
   "cell_type": "code",
   "execution_count": 9,
   "id": "1cae0289",
   "metadata": {
    "execution": {
     "iopub.execute_input": "2023-05-03T11:41:46.962942Z",
     "iopub.status.busy": "2023-05-03T11:41:46.962524Z",
     "iopub.status.idle": "2023-05-03T11:41:47.210375Z",
     "shell.execute_reply": "2023-05-03T11:41:47.209184Z"
    },
    "papermill": {
     "duration": 0.267185,
     "end_time": "2023-05-03T11:41:47.212764",
     "exception": false,
     "start_time": "2023-05-03T11:41:46.945579",
     "status": "completed"
    },
    "tags": []
   },
   "outputs": [
    {
     "data": {
      "text/plain": [
       "<AxesSubplot:>"
      ]
     },
     "execution_count": 9,
     "metadata": {},
     "output_type": "execute_result"
    },
    {
     "data": {
      "image/png": "[encoded data removed]",
      "text/plain": [
       "<Figure size 640x480 with 1 Axes>"
      ]
     },
     "metadata": {},
     "output_type": "display_data"
    }
   ],
   "source": [
    "df.boxplot()"
   ]
  },
  {
   "cell_type": "markdown",
   "id": "4073e7eb",
   "metadata": {
    "papermill": {
     "duration": 0.015492,
     "end_time": "2023-05-03T11:41:47.244064",
     "exception": false,
     "start_time": "2023-05-03T11:41:47.228572",
     "status": "completed"
    },
    "tags": []
   },
   "source": [
    " #  7 )Finding of Null Values"
   ]
  },
  {
   "cell_type": "code",
   "execution_count": 10,
   "id": "d987ca26",
   "metadata": {
    "execution": {
     "iopub.execute_input": "2023-05-03T11:41:47.277052Z",
     "iopub.status.busy": "2023-05-03T11:41:47.276637Z",
     "iopub.status.idle": "2023-05-03T11:41:47.292552Z",
     "shell.execute_reply": "2023-05-03T11:41:47.291519Z"
    },
    "papermill": {
     "duration": 0.03501,
     "end_time": "2023-05-03T11:41:47.294707",
     "exception": false,
     "start_time": "2023-05-03T11:41:47.259697",
     "status": "completed"
    },
    "tags": []
   },
   "outputs": [
    {
     "data": {
      "text/plain": [
       "App                  0\n",
       "Category             0\n",
       "Rating            1474\n",
       "Reviews              0\n",
       "Size                 0\n",
       "Installs             0\n",
       "Type                 1\n",
       "Price                0\n",
       "Content Rating       1\n",
       "Genres               0\n",
       "Last Updated         0\n",
       "Current Ver          8\n",
       "Android Ver          3\n",
       "dtype: int64"
      ]
     },
     "execution_count": 10,
     "metadata": {},
     "output_type": "execute_result"
    }
   ],
   "source": [
    "df.isnull().sum()"
   ]
  },
  {
   "cell_type": "code",
   "execution_count": 11,
   "id": "4e93f541",
   "metadata": {
    "execution": {
     "iopub.execute_input": "2023-05-03T11:41:47.330199Z",
     "iopub.status.busy": "2023-05-03T11:41:47.329776Z",
     "iopub.status.idle": "2023-05-03T11:41:47.349814Z",
     "shell.execute_reply": "2023-05-03T11:41:47.348386Z"
    },
    "papermill": {
     "duration": 0.041379,
     "end_time": "2023-05-03T11:41:47.352182",
     "exception": false,
     "start_time": "2023-05-03T11:41:47.310803",
     "status": "completed"
    },
    "tags": []
   },
   "outputs": [
    {
     "name": "stdout",
     "output_type": "stream",
     "text": [
      "Rating ........... 13.596531685268886 %....... float64\n",
      "Current Ver ........... 0.07379393044922056 %....... object\n",
      "Android Ver ........... 0.027672723918457705 %....... object\n"
     ]
    }
   ],
   "source": [
    "# Missing-value in %\n",
    "\n",
    "for i in df.columns:\n",
    "    if df[i].isnull().sum()>1:\n",
    "        print(i,\"...........\",df[i].isnull().sum()*100/df.shape[0],\"%.......\",df[i].dtype)"
   ]
  },
  {
   "cell_type": "markdown",
   "id": "b44b9510",
   "metadata": {
    "papermill": {
     "duration": 0.016068,
     "end_time": "2023-05-03T11:41:47.384351",
     "exception": false,
     "start_time": "2023-05-03T11:41:47.368283",
     "status": "completed"
    },
    "tags": []
   },
   "source": [
    " **Treatment of null values**"
   ]
  },
  {
   "cell_type": "code",
   "execution_count": 12,
   "id": "f4aac12d",
   "metadata": {
    "execution": {
     "iopub.execute_input": "2023-05-03T11:41:47.418910Z",
     "iopub.status.busy": "2023-05-03T11:41:47.418205Z",
     "iopub.status.idle": "2023-05-03T11:41:47.424495Z",
     "shell.execute_reply": "2023-05-03T11:41:47.423534Z"
    },
    "papermill": {
     "duration": 0.026088,
     "end_time": "2023-05-03T11:41:47.426773",
     "exception": false,
     "start_time": "2023-05-03T11:41:47.400685",
     "status": "completed"
    },
    "tags": []
   },
   "outputs": [],
   "source": [
    "#Filling Null in Rating column \n",
    "mean=df[\"Rating\"].mean(skipna=True)\n",
    "df[\"Rating\"]=df[\"Rating\"].fillna(mean)\n"
   ]
  },
  {
   "cell_type": "code",
   "execution_count": 13,
   "id": "878be740",
   "metadata": {
    "execution": {
     "iopub.execute_input": "2023-05-03T11:41:47.460254Z",
     "iopub.status.busy": "2023-05-03T11:41:47.459866Z",
     "iopub.status.idle": "2023-05-03T11:41:47.466367Z",
     "shell.execute_reply": "2023-05-03T11:41:47.465269Z"
    },
    "papermill": {
     "duration": 0.025934,
     "end_time": "2023-05-03T11:41:47.468589",
     "exception": false,
     "start_time": "2023-05-03T11:41:47.442655",
     "status": "completed"
    },
    "tags": []
   },
   "outputs": [],
   "source": [
    "#Filling Null in Type column \n",
    "df[\"Type\"]=df[\"Type\"].fillna(\"Free\")"
   ]
  },
  {
   "cell_type": "code",
   "execution_count": 14,
   "id": "3d9d3d57",
   "metadata": {
    "execution": {
     "iopub.execute_input": "2023-05-03T11:41:47.501879Z",
     "iopub.status.busy": "2023-05-03T11:41:47.501435Z",
     "iopub.status.idle": "2023-05-03T11:41:47.509371Z",
     "shell.execute_reply": "2023-05-03T11:41:47.508267Z"
    },
    "papermill": {
     "duration": 0.027282,
     "end_time": "2023-05-03T11:41:47.511698",
     "exception": false,
     "start_time": "2023-05-03T11:41:47.484416",
     "status": "completed"
    },
    "tags": []
   },
   "outputs": [
    {
     "data": {
      "text/plain": [
       "array(['Everyone', 'Teen', 'Everyone 10+', 'Mature 17+',\n",
       "       'Adults only 18+', 'Unrated', nan], dtype=object)"
      ]
     },
     "execution_count": 14,
     "metadata": {},
     "output_type": "execute_result"
    }
   ],
   "source": [
    "#Filling Null in Content Rating column \n",
    "df[\"Content Rating\"].unique()"
   ]
  },
  {
   "cell_type": "code",
   "execution_count": 15,
   "id": "63544c7b",
   "metadata": {
    "execution": {
     "iopub.execute_input": "2023-05-03T11:41:47.546694Z",
     "iopub.status.busy": "2023-05-03T11:41:47.545826Z",
     "iopub.status.idle": "2023-05-03T11:41:47.552914Z",
     "shell.execute_reply": "2023-05-03T11:41:47.551685Z"
    },
    "papermill": {
     "duration": 0.026884,
     "end_time": "2023-05-03T11:41:47.555106",
     "exception": false,
     "start_time": "2023-05-03T11:41:47.528222",
     "status": "completed"
    },
    "tags": []
   },
   "outputs": [],
   "source": [
    "df[\"Content Rating\"]=df[\"Content Rating\"].fillna(\"Unrated\")"
   ]
  },
  {
   "cell_type": "code",
   "execution_count": 16,
   "id": "3a164af6",
   "metadata": {
    "execution": {
     "iopub.execute_input": "2023-05-03T11:41:47.588929Z",
     "iopub.status.busy": "2023-05-03T11:41:47.588264Z",
     "iopub.status.idle": "2023-05-03T11:41:47.594465Z",
     "shell.execute_reply": "2023-05-03T11:41:47.593694Z"
    },
    "papermill": {
     "duration": 0.025717,
     "end_time": "2023-05-03T11:41:47.596605",
     "exception": false,
     "start_time": "2023-05-03T11:41:47.570888",
     "status": "completed"
    },
    "tags": []
   },
   "outputs": [],
   "source": [
    "#Filling Null in Current Ver column \n",
    "df[\"Current Ver\"]=df[\"Current Ver\"].fillna(\"Varies with device\")"
   ]
  },
  {
   "cell_type": "code",
   "execution_count": 17,
   "id": "4cb18617",
   "metadata": {
    "execution": {
     "iopub.execute_input": "2023-05-03T11:41:47.630471Z",
     "iopub.status.busy": "2023-05-03T11:41:47.629805Z",
     "iopub.status.idle": "2023-05-03T11:41:47.636278Z",
     "shell.execute_reply": "2023-05-03T11:41:47.635400Z"
    },
    "papermill": {
     "duration": 0.026211,
     "end_time": "2023-05-03T11:41:47.638510",
     "exception": false,
     "start_time": "2023-05-03T11:41:47.612299",
     "status": "completed"
    },
    "tags": []
   },
   "outputs": [],
   "source": [
    "#Filling Null in Android Ver column \n",
    "df[\"Android Ver\"]=df[\"Android Ver\"].fillna(\"Varies with device\")"
   ]
  },
  {
   "cell_type": "markdown",
   "id": "75801c83",
   "metadata": {
    "papermill": {
     "duration": 0.015698,
     "end_time": "2023-05-03T11:41:47.669865",
     "exception": false,
     "start_time": "2023-05-03T11:41:47.654167",
     "status": "completed"
    },
    "tags": []
   },
   "source": [
    "**Checking Null Value**"
   ]
  },
  {
   "cell_type": "code",
   "execution_count": 18,
   "id": "2f63da00",
   "metadata": {
    "execution": {
     "iopub.execute_input": "2023-05-03T11:41:47.703729Z",
     "iopub.status.busy": "2023-05-03T11:41:47.702644Z",
     "iopub.status.idle": "2023-05-03T11:41:47.717874Z",
     "shell.execute_reply": "2023-05-03T11:41:47.716963Z"
    },
    "papermill": {
     "duration": 0.03485,
     "end_time": "2023-05-03T11:41:47.720386",
     "exception": false,
     "start_time": "2023-05-03T11:41:47.685536",
     "status": "completed"
    },
    "tags": []
   },
   "outputs": [
    {
     "data": {
      "text/plain": [
       "App               0\n",
       "Category          0\n",
       "Rating            0\n",
       "Reviews           0\n",
       "Size              0\n",
       "Installs          0\n",
       "Type              0\n",
       "Price             0\n",
       "Content Rating    0\n",
       "Genres            0\n",
       "Last Updated      0\n",
       "Current Ver       0\n",
       "Android Ver       0\n",
       "dtype: int64"
      ]
     },
     "execution_count": 18,
     "metadata": {},
     "output_type": "execute_result"
    }
   ],
   "source": [
    "df.isnull().sum()"
   ]
  },
  {
   "cell_type": "markdown",
   "id": "6fcf6675",
   "metadata": {
    "papermill": {
     "duration": 0.015542,
     "end_time": "2023-05-03T11:41:47.751966",
     "exception": false,
     "start_time": "2023-05-03T11:41:47.736424",
     "status": "completed"
    },
    "tags": []
   },
   "source": [
    "**Checking info**"
   ]
  },
  {
   "cell_type": "code",
   "execution_count": 19,
   "id": "8b97d85f",
   "metadata": {
    "execution": {
     "iopub.execute_input": "2023-05-03T11:41:47.786542Z",
     "iopub.status.busy": "2023-05-03T11:41:47.785564Z",
     "iopub.status.idle": "2023-05-03T11:41:47.804438Z",
     "shell.execute_reply": "2023-05-03T11:41:47.803268Z"
    },
    "papermill": {
     "duration": 0.038351,
     "end_time": "2023-05-03T11:41:47.807005",
     "exception": false,
     "start_time": "2023-05-03T11:41:47.768654",
     "status": "completed"
    },
    "tags": []
   },
   "outputs": [
    {
     "name": "stdout",
     "output_type": "stream",
     "text": [
      "<class 'pandas.core.frame.DataFrame'>\n",
      "RangeIndex: 10841 entries, 0 to 10840\n",
      "Data columns (total 13 columns):\n",
      " #   Column          Non-Null Count  Dtype  \n",
      "---  ------          --------------  -----  \n",
      " 0   App             10841 non-null  object \n",
      " 1   Category        10841 non-null  object \n",
      " 2   Rating          10841 non-null  float64\n",
      " 3   Reviews         10841 non-null  object \n",
      " 4   Size            10841 non-null  object \n",
      " 5   Installs        10841 non-null  object \n",
      " 6   Type            10841 non-null  object \n",
      " 7   Price           10841 non-null  object \n",
      " 8   Content Rating  10841 non-null  object \n",
      " 9   Genres          10841 non-null  object \n",
      " 10  Last Updated    10841 non-null  object \n",
      " 11  Current Ver     10841 non-null  object \n",
      " 12  Android Ver     10841 non-null  object \n",
      "dtypes: float64(1), object(12)\n",
      "memory usage: 1.1+ MB\n"
     ]
    }
   ],
   "source": [
    "df.info()"
   ]
  },
  {
   "cell_type": "markdown",
   "id": "91ceb525",
   "metadata": {
    "papermill": {
     "duration": 0.015712,
     "end_time": "2023-05-03T11:41:47.838859",
     "exception": false,
     "start_time": "2023-05-03T11:41:47.823147",
     "status": "completed"
    },
    "tags": []
   },
   "source": [
    "* **Now, there is no any null value**"
   ]
  },
  {
   "cell_type": "markdown",
   "id": "b0422558",
   "metadata": {
    "papermill": {
     "duration": 0.015501,
     "end_time": "2023-05-03T11:41:47.870298",
     "exception": false,
     "start_time": "2023-05-03T11:41:47.854797",
     "status": "completed"
    },
    "tags": []
   },
   "source": [
    "# 8) Checking Duplicates"
   ]
  },
  {
   "cell_type": "code",
   "execution_count": 20,
   "id": "3638bfe4",
   "metadata": {
    "execution": {
     "iopub.execute_input": "2023-05-03T11:41:47.903588Z",
     "iopub.status.busy": "2023-05-03T11:41:47.903151Z",
     "iopub.status.idle": "2023-05-03T11:41:47.930407Z",
     "shell.execute_reply": "2023-05-03T11:41:47.929261Z"
    },
    "papermill": {
     "duration": 0.046732,
     "end_time": "2023-05-03T11:41:47.932876",
     "exception": false,
     "start_time": "2023-05-03T11:41:47.886144",
     "status": "completed"
    },
    "tags": []
   },
   "outputs": [
    {
     "data": {
      "text/plain": [
       "False    10358\n",
       "True       483\n",
       "dtype: int64"
      ]
     },
     "execution_count": 20,
     "metadata": {},
     "output_type": "execute_result"
    }
   ],
   "source": [
    "df.duplicated().value_counts()"
   ]
  },
  {
   "cell_type": "code",
   "execution_count": 21,
   "id": "b45e7be3",
   "metadata": {
    "execution": {
     "iopub.execute_input": "2023-05-03T11:41:47.967464Z",
     "iopub.status.busy": "2023-05-03T11:41:47.967071Z",
     "iopub.status.idle": "2023-05-03T11:41:48.007884Z",
     "shell.execute_reply": "2023-05-03T11:41:48.006686Z"
    },
    "papermill": {
     "duration": 0.061043,
     "end_time": "2023-05-03T11:41:48.010422",
     "exception": false,
     "start_time": "2023-05-03T11:41:47.949379",
     "status": "completed"
    },
    "tags": []
   },
   "outputs": [
    {
     "data": {
      "text/html": [
       "<div>\n",
       "<style scoped>\n",
       "    .dataframe tbody tr th:only-of-type {\n",
       "        vertical-align: middle;\n",
       "    }\n",
       "\n",
       "    .dataframe tbody tr th {\n",
       "        vertical-align: top;\n",
       "    }\n",
       "\n",
       "    .dataframe thead th {\n",
       "        text-align: right;\n",
       "    }\n",
       "</style>\n",
       "<table border=\"1\" class=\"dataframe\">\n",
       "  <thead>\n",
       "    <tr style=\"text-align: right;\">\n",
       "      <th></th>\n",
       "      <th>App</th>\n",
       "      <th>Category</th>\n",
       "      <th>Rating</th>\n",
       "      <th>Reviews</th>\n",
       "      <th>Size</th>\n",
       "      <th>Installs</th>\n",
       "      <th>Type</th>\n",
       "      <th>Price</th>\n",
       "      <th>Content Rating</th>\n",
       "      <th>Genres</th>\n",
       "      <th>Last Updated</th>\n",
       "      <th>Current Ver</th>\n",
       "      <th>Android Ver</th>\n",
       "    </tr>\n",
       "  </thead>\n",
       "  <tbody>\n",
       "    <tr>\n",
       "      <th>0</th>\n",
       "      <td>Photo Editor &amp; Candy Camera &amp; Grid &amp; ScrapBook</td>\n",
       "      <td>ART_AND_DESIGN</td>\n",
       "      <td>4.100000</td>\n",
       "      <td>159</td>\n",
       "      <td>19M</td>\n",
       "      <td>10,000+</td>\n",
       "      <td>Free</td>\n",
       "      <td>0</td>\n",
       "      <td>Everyone</td>\n",
       "      <td>Art &amp; Design</td>\n",
       "      <td>January 7, 2018</td>\n",
       "      <td>1.0.0</td>\n",
       "      <td>4.0.3 and up</td>\n",
       "    </tr>\n",
       "    <tr>\n",
       "      <th>1</th>\n",
       "      <td>Coloring book moana</td>\n",
       "      <td>ART_AND_DESIGN</td>\n",
       "      <td>3.900000</td>\n",
       "      <td>967</td>\n",
       "      <td>14M</td>\n",
       "      <td>500,000+</td>\n",
       "      <td>Free</td>\n",
       "      <td>0</td>\n",
       "      <td>Everyone</td>\n",
       "      <td>Art &amp; Design;Pretend Play</td>\n",
       "      <td>January 15, 2018</td>\n",
       "      <td>2.0.0</td>\n",
       "      <td>4.0.3 and up</td>\n",
       "    </tr>\n",
       "    <tr>\n",
       "      <th>2</th>\n",
       "      <td>U Launcher Lite – FREE Live Cool Themes, Hide ...</td>\n",
       "      <td>ART_AND_DESIGN</td>\n",
       "      <td>4.700000</td>\n",
       "      <td>87510</td>\n",
       "      <td>8.7M</td>\n",
       "      <td>5,000,000+</td>\n",
       "      <td>Free</td>\n",
       "      <td>0</td>\n",
       "      <td>Everyone</td>\n",
       "      <td>Art &amp; Design</td>\n",
       "      <td>August 1, 2018</td>\n",
       "      <td>1.2.4</td>\n",
       "      <td>4.0.3 and up</td>\n",
       "    </tr>\n",
       "    <tr>\n",
       "      <th>3</th>\n",
       "      <td>Sketch - Draw &amp; Paint</td>\n",
       "      <td>ART_AND_DESIGN</td>\n",
       "      <td>4.500000</td>\n",
       "      <td>215644</td>\n",
       "      <td>25M</td>\n",
       "      <td>50,000,000+</td>\n",
       "      <td>Free</td>\n",
       "      <td>0</td>\n",
       "      <td>Teen</td>\n",
       "      <td>Art &amp; Design</td>\n",
       "      <td>June 8, 2018</td>\n",
       "      <td>Varies with device</td>\n",
       "      <td>4.2 and up</td>\n",
       "    </tr>\n",
       "    <tr>\n",
       "      <th>4</th>\n",
       "      <td>Pixel Draw - Number Art Coloring Book</td>\n",
       "      <td>ART_AND_DESIGN</td>\n",
       "      <td>4.300000</td>\n",
       "      <td>967</td>\n",
       "      <td>2.8M</td>\n",
       "      <td>100,000+</td>\n",
       "      <td>Free</td>\n",
       "      <td>0</td>\n",
       "      <td>Everyone</td>\n",
       "      <td>Art &amp; Design;Creativity</td>\n",
       "      <td>June 20, 2018</td>\n",
       "      <td>1.1</td>\n",
       "      <td>4.4 and up</td>\n",
       "    </tr>\n",
       "    <tr>\n",
       "      <th>...</th>\n",
       "      <td>...</td>\n",
       "      <td>...</td>\n",
       "      <td>...</td>\n",
       "      <td>...</td>\n",
       "      <td>...</td>\n",
       "      <td>...</td>\n",
       "      <td>...</td>\n",
       "      <td>...</td>\n",
       "      <td>...</td>\n",
       "      <td>...</td>\n",
       "      <td>...</td>\n",
       "      <td>...</td>\n",
       "      <td>...</td>\n",
       "    </tr>\n",
       "    <tr>\n",
       "      <th>10836</th>\n",
       "      <td>Sya9a Maroc - FR</td>\n",
       "      <td>FAMILY</td>\n",
       "      <td>4.500000</td>\n",
       "      <td>38</td>\n",
       "      <td>53M</td>\n",
       "      <td>5,000+</td>\n",
       "      <td>Free</td>\n",
       "      <td>0</td>\n",
       "      <td>Everyone</td>\n",
       "      <td>Education</td>\n",
       "      <td>July 25, 2017</td>\n",
       "      <td>1.48</td>\n",
       "      <td>4.1 and up</td>\n",
       "    </tr>\n",
       "    <tr>\n",
       "      <th>10837</th>\n",
       "      <td>Fr. Mike Schmitz Audio Teachings</td>\n",
       "      <td>FAMILY</td>\n",
       "      <td>5.000000</td>\n",
       "      <td>4</td>\n",
       "      <td>3.6M</td>\n",
       "      <td>100+</td>\n",
       "      <td>Free</td>\n",
       "      <td>0</td>\n",
       "      <td>Everyone</td>\n",
       "      <td>Education</td>\n",
       "      <td>July 6, 2018</td>\n",
       "      <td>1.0</td>\n",
       "      <td>4.1 and up</td>\n",
       "    </tr>\n",
       "    <tr>\n",
       "      <th>10838</th>\n",
       "      <td>Parkinson Exercices FR</td>\n",
       "      <td>MEDICAL</td>\n",
       "      <td>4.193338</td>\n",
       "      <td>3</td>\n",
       "      <td>9.5M</td>\n",
       "      <td>1,000+</td>\n",
       "      <td>Free</td>\n",
       "      <td>0</td>\n",
       "      <td>Everyone</td>\n",
       "      <td>Medical</td>\n",
       "      <td>January 20, 2017</td>\n",
       "      <td>1.0</td>\n",
       "      <td>2.2 and up</td>\n",
       "    </tr>\n",
       "    <tr>\n",
       "      <th>10839</th>\n",
       "      <td>The SCP Foundation DB fr nn5n</td>\n",
       "      <td>BOOKS_AND_REFERENCE</td>\n",
       "      <td>4.500000</td>\n",
       "      <td>114</td>\n",
       "      <td>Varies with device</td>\n",
       "      <td>1,000+</td>\n",
       "      <td>Free</td>\n",
       "      <td>0</td>\n",
       "      <td>Mature 17+</td>\n",
       "      <td>Books &amp; Reference</td>\n",
       "      <td>January 19, 2015</td>\n",
       "      <td>Varies with device</td>\n",
       "      <td>Varies with device</td>\n",
       "    </tr>\n",
       "    <tr>\n",
       "      <th>10840</th>\n",
       "      <td>iHoroscope - 2018 Daily Horoscope &amp; Astrology</td>\n",
       "      <td>LIFESTYLE</td>\n",
       "      <td>4.500000</td>\n",
       "      <td>398307</td>\n",
       "      <td>19M</td>\n",
       "      <td>10,000,000+</td>\n",
       "      <td>Free</td>\n",
       "      <td>0</td>\n",
       "      <td>Everyone</td>\n",
       "      <td>Lifestyle</td>\n",
       "      <td>July 25, 2018</td>\n",
       "      <td>Varies with device</td>\n",
       "      <td>Varies with device</td>\n",
       "    </tr>\n",
       "  </tbody>\n",
       "</table>\n",
       "<p>10358 rows × 13 columns</p>\n",
       "</div>"
      ],
      "text/plain": [
       "                                                     App             Category  \\\n",
       "0         Photo Editor & Candy Camera & Grid & ScrapBook       ART_AND_DESIGN   \n",
       "1                                    Coloring book moana       ART_AND_DESIGN   \n",
       "2      U Launcher Lite – FREE Live Cool Themes, Hide ...       ART_AND_DESIGN   \n",
       "3                                  Sketch - Draw & Paint       ART_AND_DESIGN   \n",
       "4                  Pixel Draw - Number Art Coloring Book       ART_AND_DESIGN   \n",
       "...                                                  ...                  ...   \n",
       "10836                                   Sya9a Maroc - FR               FAMILY   \n",
       "10837                   Fr. Mike Schmitz Audio Teachings               FAMILY   \n",
       "10838                             Parkinson Exercices FR              MEDICAL   \n",
       "10839                      The SCP Foundation DB fr nn5n  BOOKS_AND_REFERENCE   \n",
       "10840      iHoroscope - 2018 Daily Horoscope & Astrology            LIFESTYLE   \n",
       "\n",
       "         Rating Reviews                Size     Installs  Type Price  \\\n",
       "0      4.100000     159                 19M      10,000+  Free     0   \n",
       "1      3.900000     967                 14M     500,000+  Free     0   \n",
       "2      4.700000   87510                8.7M   5,000,000+  Free     0   \n",
       "3      4.500000  215644                 25M  50,000,000+  Free     0   \n",
       "4      4.300000     967                2.8M     100,000+  Free     0   \n",
       "...         ...     ...                 ...          ...   ...   ...   \n",
       "10836  4.500000      38                 53M       5,000+  Free     0   \n",
       "10837  5.000000       4                3.6M         100+  Free     0   \n",
       "10838  4.193338       3                9.5M       1,000+  Free     0   \n",
       "10839  4.500000     114  Varies with device       1,000+  Free     0   \n",
       "10840  4.500000  398307                 19M  10,000,000+  Free     0   \n",
       "\n",
       "      Content Rating                     Genres      Last Updated  \\\n",
       "0           Everyone               Art & Design   January 7, 2018   \n",
       "1           Everyone  Art & Design;Pretend Play  January 15, 2018   \n",
       "2           Everyone               Art & Design    August 1, 2018   \n",
       "3               Teen               Art & Design      June 8, 2018   \n",
       "4           Everyone    Art & Design;Creativity     June 20, 2018   \n",
       "...              ...                        ...               ...   \n",
       "10836       Everyone                  Education     July 25, 2017   \n",
       "10837       Everyone                  Education      July 6, 2018   \n",
       "10838       Everyone                    Medical  January 20, 2017   \n",
       "10839     Mature 17+          Books & Reference  January 19, 2015   \n",
       "10840       Everyone                  Lifestyle     July 25, 2018   \n",
       "\n",
       "              Current Ver         Android Ver  \n",
       "0                   1.0.0        4.0.3 and up  \n",
       "1                   2.0.0        4.0.3 and up  \n",
       "2                   1.2.4        4.0.3 and up  \n",
       "3      Varies with device          4.2 and up  \n",
       "4                     1.1          4.4 and up  \n",
       "...                   ...                 ...  \n",
       "10836                1.48          4.1 and up  \n",
       "10837                 1.0          4.1 and up  \n",
       "10838                 1.0          2.2 and up  \n",
       "10839  Varies with device  Varies with device  \n",
       "10840  Varies with device  Varies with device  \n",
       "\n",
       "[10358 rows x 13 columns]"
      ]
     },
     "execution_count": 21,
     "metadata": {},
     "output_type": "execute_result"
    }
   ],
   "source": [
    "df.drop_duplicates(inplace=True)\n",
    "df"
   ]
  },
  {
   "cell_type": "code",
   "execution_count": 22,
   "id": "f3a43f6c",
   "metadata": {
    "execution": {
     "iopub.execute_input": "2023-05-03T11:41:48.045270Z",
     "iopub.status.busy": "2023-05-03T11:41:48.044845Z",
     "iopub.status.idle": "2023-05-03T11:41:48.069564Z",
     "shell.execute_reply": "2023-05-03T11:41:48.068465Z"
    },
    "papermill": {
     "duration": 0.045091,
     "end_time": "2023-05-03T11:41:48.072236",
     "exception": false,
     "start_time": "2023-05-03T11:41:48.027145",
     "status": "completed"
    },
    "tags": []
   },
   "outputs": [
    {
     "data": {
      "text/plain": [
       "False    10358\n",
       "dtype: int64"
      ]
     },
     "execution_count": 22,
     "metadata": {},
     "output_type": "execute_result"
    }
   ],
   "source": [
    "df.duplicated().value_counts()"
   ]
  },
  {
   "cell_type": "markdown",
   "id": "0322c828",
   "metadata": {
    "papermill": {
     "duration": 0.01646,
     "end_time": "2023-05-03T11:41:48.105863",
     "exception": false,
     "start_time": "2023-05-03T11:41:48.089403",
     "status": "completed"
    },
    "tags": []
   },
   "source": [
    "# 9) Google Play Store -Data Analysis (EDA)"
   ]
  },
  {
   "cell_type": "markdown",
   "id": "354dadf5",
   "metadata": {
    "papermill": {
     "duration": 0.01687,
     "end_time": "2023-05-03T11:41:48.139715",
     "exception": false,
     "start_time": "2023-05-03T11:41:48.122845",
     "status": "completed"
    },
    "tags": []
   },
   "source": [
    "# 1)Checking types of Apps"
   ]
  },
  {
   "cell_type": "code",
   "execution_count": 23,
   "id": "949ad7b0",
   "metadata": {
    "execution": {
     "iopub.execute_input": "2023-05-03T11:41:48.175078Z",
     "iopub.status.busy": "2023-05-03T11:41:48.174609Z",
     "iopub.status.idle": "2023-05-03T11:41:48.183843Z",
     "shell.execute_reply": "2023-05-03T11:41:48.182717Z"
    },
    "papermill": {
     "duration": 0.029825,
     "end_time": "2023-05-03T11:41:48.186254",
     "exception": false,
     "start_time": "2023-05-03T11:41:48.156429",
     "status": "completed"
    },
    "tags": []
   },
   "outputs": [
    {
     "data": {
      "text/plain": [
       "array(['Photo Editor & Candy Camera & Grid & ScrapBook',\n",
       "       'Coloring book moana',\n",
       "       'U Launcher Lite – FREE Live Cool Themes, Hide Apps', ...,\n",
       "       'Parkinson Exercices FR', 'The SCP Foundation DB fr nn5n',\n",
       "       'iHoroscope - 2018 Daily Horoscope & Astrology'], dtype=object)"
      ]
     },
     "execution_count": 23,
     "metadata": {},
     "output_type": "execute_result"
    }
   ],
   "source": [
    "\n",
    "app=df[\"App\"].unique()\n",
    "app"
   ]
  },
  {
   "cell_type": "code",
   "execution_count": 24,
   "id": "e754afdc",
   "metadata": {
    "execution": {
     "iopub.execute_input": "2023-05-03T11:41:48.222522Z",
     "iopub.status.busy": "2023-05-03T11:41:48.222102Z",
     "iopub.status.idle": "2023-05-03T11:41:48.238886Z",
     "shell.execute_reply": "2023-05-03T11:41:48.237705Z"
    },
    "papermill": {
     "duration": 0.037919,
     "end_time": "2023-05-03T11:41:48.241374",
     "exception": false,
     "start_time": "2023-05-03T11:41:48.203455",
     "status": "completed"
    },
    "tags": []
   },
   "outputs": [
    {
     "data": {
      "text/html": [
       "<div>\n",
       "<style scoped>\n",
       "    .dataframe tbody tr th:only-of-type {\n",
       "        vertical-align: middle;\n",
       "    }\n",
       "\n",
       "    .dataframe tbody tr th {\n",
       "        vertical-align: top;\n",
       "    }\n",
       "\n",
       "    .dataframe thead th {\n",
       "        text-align: right;\n",
       "    }\n",
       "</style>\n",
       "<table border=\"1\" class=\"dataframe\">\n",
       "  <thead>\n",
       "    <tr style=\"text-align: right;\">\n",
       "      <th></th>\n",
       "      <th>index</th>\n",
       "      <th>App</th>\n",
       "    </tr>\n",
       "  </thead>\n",
       "  <tbody>\n",
       "    <tr>\n",
       "      <th>0</th>\n",
       "      <td>8 Ball Pool</td>\n",
       "      <td>7</td>\n",
       "    </tr>\n",
       "    <tr>\n",
       "      <th>1</th>\n",
       "      <td>Bubble Shooter</td>\n",
       "      <td>6</td>\n",
       "    </tr>\n",
       "    <tr>\n",
       "      <th>2</th>\n",
       "      <td>Zombie Catchers</td>\n",
       "      <td>6</td>\n",
       "    </tr>\n",
       "    <tr>\n",
       "      <th>3</th>\n",
       "      <td>Helix Jump</td>\n",
       "      <td>6</td>\n",
       "    </tr>\n",
       "    <tr>\n",
       "      <th>4</th>\n",
       "      <td>Granny</td>\n",
       "      <td>5</td>\n",
       "    </tr>\n",
       "    <tr>\n",
       "      <th>5</th>\n",
       "      <td>Duolingo: Learn Languages Free</td>\n",
       "      <td>5</td>\n",
       "    </tr>\n",
       "    <tr>\n",
       "      <th>6</th>\n",
       "      <td>Temple Run 2</td>\n",
       "      <td>5</td>\n",
       "    </tr>\n",
       "    <tr>\n",
       "      <th>7</th>\n",
       "      <td>Bowmasters</td>\n",
       "      <td>5</td>\n",
       "    </tr>\n",
       "    <tr>\n",
       "      <th>8</th>\n",
       "      <td>Zombie Tsunami</td>\n",
       "      <td>5</td>\n",
       "    </tr>\n",
       "    <tr>\n",
       "      <th>9</th>\n",
       "      <td>Subway Surfers</td>\n",
       "      <td>5</td>\n",
       "    </tr>\n",
       "  </tbody>\n",
       "</table>\n",
       "</div>"
      ],
      "text/plain": [
       "                            index  App\n",
       "0                     8 Ball Pool    7\n",
       "1                  Bubble Shooter    6\n",
       "2                 Zombie Catchers    6\n",
       "3                      Helix Jump    6\n",
       "4                          Granny    5\n",
       "5  Duolingo: Learn Languages Free    5\n",
       "6                    Temple Run 2    5\n",
       "7                      Bowmasters    5\n",
       "8                  Zombie Tsunami    5\n",
       "9                  Subway Surfers    5"
      ]
     },
     "execution_count": 24,
     "metadata": {},
     "output_type": "execute_result"
    }
   ],
   "source": [
    "app=df[\"App\"].value_counts().sort_values(ascending=False)[1:11]\n",
    "app=app.reset_index()\n",
    "app"
   ]
  },
  {
   "cell_type": "code",
   "execution_count": 25,
   "id": "a823a752",
   "metadata": {
    "execution": {
     "iopub.execute_input": "2023-05-03T11:41:48.277638Z",
     "iopub.status.busy": "2023-05-03T11:41:48.277156Z",
     "iopub.status.idle": "2023-05-03T11:41:48.289843Z",
     "shell.execute_reply": "2023-05-03T11:41:48.288775Z"
    },
    "papermill": {
     "duration": 0.033552,
     "end_time": "2023-05-03T11:41:48.292196",
     "exception": false,
     "start_time": "2023-05-03T11:41:48.258644",
     "status": "completed"
    },
    "tags": []
   },
   "outputs": [
    {
     "data": {
      "text/html": [
       "<div>\n",
       "<style scoped>\n",
       "    .dataframe tbody tr th:only-of-type {\n",
       "        vertical-align: middle;\n",
       "    }\n",
       "\n",
       "    .dataframe tbody tr th {\n",
       "        vertical-align: top;\n",
       "    }\n",
       "\n",
       "    .dataframe thead th {\n",
       "        text-align: right;\n",
       "    }\n",
       "</style>\n",
       "<table border=\"1\" class=\"dataframe\">\n",
       "  <thead>\n",
       "    <tr style=\"text-align: right;\">\n",
       "      <th></th>\n",
       "      <th>App</th>\n",
       "      <th>Count</th>\n",
       "    </tr>\n",
       "  </thead>\n",
       "  <tbody>\n",
       "    <tr>\n",
       "      <th>0</th>\n",
       "      <td>8 Ball Pool</td>\n",
       "      <td>7</td>\n",
       "    </tr>\n",
       "    <tr>\n",
       "      <th>1</th>\n",
       "      <td>Bubble Shooter</td>\n",
       "      <td>6</td>\n",
       "    </tr>\n",
       "    <tr>\n",
       "      <th>2</th>\n",
       "      <td>Zombie Catchers</td>\n",
       "      <td>6</td>\n",
       "    </tr>\n",
       "    <tr>\n",
       "      <th>3</th>\n",
       "      <td>Helix Jump</td>\n",
       "      <td>6</td>\n",
       "    </tr>\n",
       "    <tr>\n",
       "      <th>4</th>\n",
       "      <td>Granny</td>\n",
       "      <td>5</td>\n",
       "    </tr>\n",
       "    <tr>\n",
       "      <th>5</th>\n",
       "      <td>Duolingo: Learn Languages Free</td>\n",
       "      <td>5</td>\n",
       "    </tr>\n",
       "    <tr>\n",
       "      <th>6</th>\n",
       "      <td>Temple Run 2</td>\n",
       "      <td>5</td>\n",
       "    </tr>\n",
       "    <tr>\n",
       "      <th>7</th>\n",
       "      <td>Bowmasters</td>\n",
       "      <td>5</td>\n",
       "    </tr>\n",
       "    <tr>\n",
       "      <th>8</th>\n",
       "      <td>Zombie Tsunami</td>\n",
       "      <td>5</td>\n",
       "    </tr>\n",
       "    <tr>\n",
       "      <th>9</th>\n",
       "      <td>Subway Surfers</td>\n",
       "      <td>5</td>\n",
       "    </tr>\n",
       "  </tbody>\n",
       "</table>\n",
       "</div>"
      ],
      "text/plain": [
       "                              App  Count\n",
       "0                     8 Ball Pool      7\n",
       "1                  Bubble Shooter      6\n",
       "2                 Zombie Catchers      6\n",
       "3                      Helix Jump      6\n",
       "4                          Granny      5\n",
       "5  Duolingo: Learn Languages Free      5\n",
       "6                    Temple Run 2      5\n",
       "7                      Bowmasters      5\n",
       "8                  Zombie Tsunami      5\n",
       "9                  Subway Surfers      5"
      ]
     },
     "execution_count": 25,
     "metadata": {},
     "output_type": "execute_result"
    }
   ],
   "source": [
    "#Rename the column name\n",
    "app=app.rename(mapper={\"index\":\"App\",\"App\":\"Count\"},axis=1)\n",
    "app"
   ]
  },
  {
   "cell_type": "code",
   "execution_count": 26,
   "id": "6d75573e",
   "metadata": {
    "execution": {
     "iopub.execute_input": "2023-05-03T11:41:48.329164Z",
     "iopub.status.busy": "2023-05-03T11:41:48.328751Z",
     "iopub.status.idle": "2023-05-03T11:41:48.687389Z",
     "shell.execute_reply": "2023-05-03T11:41:48.686537Z"
    },
    "papermill": {
     "duration": 0.380282,
     "end_time": "2023-05-03T11:41:48.690066",
     "exception": false,
     "start_time": "2023-05-03T11:41:48.309784",
     "status": "completed"
    },
    "tags": []
   },
   "outputs": [
    {
     "data": {
      "image/png": "[encoded data removed]",
      "text/plain": [
       "<Figure size 1500x700 with 1 Axes>"
      ]
     },
     "metadata": {},
     "output_type": "display_data"
    }
   ],
   "source": [
    "plt.figure(figsize=(15,7))\n",
    "sns.barplot(x=app[\"App\"],y=app[\"Count\"],data=app,palette=\"Reds_r\",edgecolor=\"black\")\n",
    "plt.xticks(rotation=45)\n",
    "plt.xlabel(\"Name of Apps\")\n",
    "plt.ylabel(\"Count\")\n",
    "plt.title(\"Top-10 Apps\");\n"
   ]
  },
  {
   "cell_type": "markdown",
   "id": "689ea0d9",
   "metadata": {
    "papermill": {
     "duration": 0.018253,
     "end_time": "2023-05-03T11:41:48.726802",
     "exception": false,
     "start_time": "2023-05-03T11:41:48.708549",
     "status": "completed"
    },
    "tags": []
   },
   "source": [
    "# 2) How many Category of app are present"
   ]
  },
  {
   "cell_type": "code",
   "execution_count": 27,
   "id": "67da081a",
   "metadata": {
    "execution": {
     "iopub.execute_input": "2023-05-03T11:41:48.765319Z",
     "iopub.status.busy": "2023-05-03T11:41:48.764184Z",
     "iopub.status.idle": "2023-05-03T11:41:48.772548Z",
     "shell.execute_reply": "2023-05-03T11:41:48.771435Z"
    },
    "papermill": {
     "duration": 0.029881,
     "end_time": "2023-05-03T11:41:48.774811",
     "exception": false,
     "start_time": "2023-05-03T11:41:48.744930",
     "status": "completed"
    },
    "tags": []
   },
   "outputs": [
    {
     "data": {
      "text/plain": [
       "array(['ART_AND_DESIGN', 'AUTO_AND_VEHICLES', 'BEAUTY',\n",
       "       'BOOKS_AND_REFERENCE', 'BUSINESS', 'COMICS', 'COMMUNICATION',\n",
       "       'DATING', 'EDUCATION', 'ENTERTAINMENT', 'EVENTS', 'FINANCE',\n",
       "       'FOOD_AND_DRINK', 'HEALTH_AND_FITNESS', 'HOUSE_AND_HOME',\n",
       "       'LIBRARIES_AND_DEMO', 'LIFESTYLE', 'GAME', 'FAMILY', 'MEDICAL',\n",
       "       'SOCIAL', 'SHOPPING', 'PHOTOGRAPHY', 'SPORTS', 'TRAVEL_AND_LOCAL',\n",
       "       'TOOLS', 'PERSONALIZATION', 'PRODUCTIVITY', 'PARENTING', 'WEATHER',\n",
       "       'VIDEO_PLAYERS', 'NEWS_AND_MAGAZINES', 'MAPS_AND_NAVIGATION',\n",
       "       '1.9'], dtype=object)"
      ]
     },
     "execution_count": 27,
     "metadata": {},
     "output_type": "execute_result"
    }
   ],
   "source": [
    "\n",
    "df[\"Category\"].unique()"
   ]
  },
  {
   "cell_type": "code",
   "execution_count": 28,
   "id": "60f9aba0",
   "metadata": {
    "execution": {
     "iopub.execute_input": "2023-05-03T11:41:48.813760Z",
     "iopub.status.busy": "2023-05-03T11:41:48.812997Z",
     "iopub.status.idle": "2023-05-03T11:41:48.826792Z",
     "shell.execute_reply": "2023-05-03T11:41:48.825560Z"
    },
    "papermill": {
     "duration": 0.035872,
     "end_time": "2023-05-03T11:41:48.829101",
     "exception": false,
     "start_time": "2023-05-03T11:41:48.793229",
     "status": "completed"
    },
    "tags": []
   },
   "outputs": [
    {
     "data": {
      "text/html": [
       "<div>\n",
       "<style scoped>\n",
       "    .dataframe tbody tr th:only-of-type {\n",
       "        vertical-align: middle;\n",
       "    }\n",
       "\n",
       "    .dataframe tbody tr th {\n",
       "        vertical-align: top;\n",
       "    }\n",
       "\n",
       "    .dataframe thead th {\n",
       "        text-align: right;\n",
       "    }\n",
       "</style>\n",
       "<table border=\"1\" class=\"dataframe\">\n",
       "  <thead>\n",
       "    <tr style=\"text-align: right;\">\n",
       "      <th></th>\n",
       "      <th>index</th>\n",
       "      <th>Category</th>\n",
       "    </tr>\n",
       "  </thead>\n",
       "  <tbody>\n",
       "    <tr>\n",
       "      <th>0</th>\n",
       "      <td>GAME</td>\n",
       "      <td>1121</td>\n",
       "    </tr>\n",
       "    <tr>\n",
       "      <th>1</th>\n",
       "      <td>TOOLS</td>\n",
       "      <td>843</td>\n",
       "    </tr>\n",
       "    <tr>\n",
       "      <th>2</th>\n",
       "      <td>BUSINESS</td>\n",
       "      <td>427</td>\n",
       "    </tr>\n",
       "    <tr>\n",
       "      <th>3</th>\n",
       "      <td>MEDICAL</td>\n",
       "      <td>408</td>\n",
       "    </tr>\n",
       "    <tr>\n",
       "      <th>4</th>\n",
       "      <td>PRODUCTIVITY</td>\n",
       "      <td>407</td>\n",
       "    </tr>\n",
       "    <tr>\n",
       "      <th>5</th>\n",
       "      <td>PERSONALIZATION</td>\n",
       "      <td>388</td>\n",
       "    </tr>\n",
       "    <tr>\n",
       "      <th>6</th>\n",
       "      <td>LIFESTYLE</td>\n",
       "      <td>373</td>\n",
       "    </tr>\n",
       "    <tr>\n",
       "      <th>7</th>\n",
       "      <td>COMMUNICATION</td>\n",
       "      <td>366</td>\n",
       "    </tr>\n",
       "    <tr>\n",
       "      <th>8</th>\n",
       "      <td>FINANCE</td>\n",
       "      <td>360</td>\n",
       "    </tr>\n",
       "    <tr>\n",
       "      <th>9</th>\n",
       "      <td>SPORTS</td>\n",
       "      <td>351</td>\n",
       "    </tr>\n",
       "  </tbody>\n",
       "</table>\n",
       "</div>"
      ],
      "text/plain": [
       "             index  Category\n",
       "0             GAME      1121\n",
       "1            TOOLS       843\n",
       "2         BUSINESS       427\n",
       "3          MEDICAL       408\n",
       "4     PRODUCTIVITY       407\n",
       "5  PERSONALIZATION       388\n",
       "6        LIFESTYLE       373\n",
       "7    COMMUNICATION       366\n",
       "8          FINANCE       360\n",
       "9           SPORTS       351"
      ]
     },
     "execution_count": 28,
     "metadata": {},
     "output_type": "execute_result"
    }
   ],
   "source": [
    "Category= df[\"Category\"].value_counts().sort_values(ascending=False)[1:11]\n",
    "Category=Category.reset_index()\n",
    "Category"
   ]
  },
  {
   "cell_type": "code",
   "execution_count": 29,
   "id": "af28db26",
   "metadata": {
    "execution": {
     "iopub.execute_input": "2023-05-03T11:41:48.868546Z",
     "iopub.status.busy": "2023-05-03T11:41:48.867782Z",
     "iopub.status.idle": "2023-05-03T11:41:48.879365Z",
     "shell.execute_reply": "2023-05-03T11:41:48.878346Z"
    },
    "papermill": {
     "duration": 0.033868,
     "end_time": "2023-05-03T11:41:48.881545",
     "exception": false,
     "start_time": "2023-05-03T11:41:48.847677",
     "status": "completed"
    },
    "tags": []
   },
   "outputs": [
    {
     "data": {
      "text/html": [
       "<div>\n",
       "<style scoped>\n",
       "    .dataframe tbody tr th:only-of-type {\n",
       "        vertical-align: middle;\n",
       "    }\n",
       "\n",
       "    .dataframe tbody tr th {\n",
       "        vertical-align: top;\n",
       "    }\n",
       "\n",
       "    .dataframe thead th {\n",
       "        text-align: right;\n",
       "    }\n",
       "</style>\n",
       "<table border=\"1\" class=\"dataframe\">\n",
       "  <thead>\n",
       "    <tr style=\"text-align: right;\">\n",
       "      <th></th>\n",
       "      <th>Category</th>\n",
       "      <th>Count</th>\n",
       "    </tr>\n",
       "  </thead>\n",
       "  <tbody>\n",
       "    <tr>\n",
       "      <th>0</th>\n",
       "      <td>GAME</td>\n",
       "      <td>1121</td>\n",
       "    </tr>\n",
       "    <tr>\n",
       "      <th>1</th>\n",
       "      <td>TOOLS</td>\n",
       "      <td>843</td>\n",
       "    </tr>\n",
       "    <tr>\n",
       "      <th>2</th>\n",
       "      <td>BUSINESS</td>\n",
       "      <td>427</td>\n",
       "    </tr>\n",
       "    <tr>\n",
       "      <th>3</th>\n",
       "      <td>MEDICAL</td>\n",
       "      <td>408</td>\n",
       "    </tr>\n",
       "    <tr>\n",
       "      <th>4</th>\n",
       "      <td>PRODUCTIVITY</td>\n",
       "      <td>407</td>\n",
       "    </tr>\n",
       "    <tr>\n",
       "      <th>5</th>\n",
       "      <td>PERSONALIZATION</td>\n",
       "      <td>388</td>\n",
       "    </tr>\n",
       "    <tr>\n",
       "      <th>6</th>\n",
       "      <td>LIFESTYLE</td>\n",
       "      <td>373</td>\n",
       "    </tr>\n",
       "    <tr>\n",
       "      <th>7</th>\n",
       "      <td>COMMUNICATION</td>\n",
       "      <td>366</td>\n",
       "    </tr>\n",
       "    <tr>\n",
       "      <th>8</th>\n",
       "      <td>FINANCE</td>\n",
       "      <td>360</td>\n",
       "    </tr>\n",
       "    <tr>\n",
       "      <th>9</th>\n",
       "      <td>SPORTS</td>\n",
       "      <td>351</td>\n",
       "    </tr>\n",
       "  </tbody>\n",
       "</table>\n",
       "</div>"
      ],
      "text/plain": [
       "          Category  Count\n",
       "0             GAME   1121\n",
       "1            TOOLS    843\n",
       "2         BUSINESS    427\n",
       "3          MEDICAL    408\n",
       "4     PRODUCTIVITY    407\n",
       "5  PERSONALIZATION    388\n",
       "6        LIFESTYLE    373\n",
       "7    COMMUNICATION    366\n",
       "8          FINANCE    360\n",
       "9           SPORTS    351"
      ]
     },
     "execution_count": 29,
     "metadata": {},
     "output_type": "execute_result"
    }
   ],
   "source": [
    "Category=Category.rename(mapper={\"index\":\"Category\",\"Category\":\"Count\"},axis=1)\n",
    "Category"
   ]
  },
  {
   "cell_type": "code",
   "execution_count": 30,
   "id": "f73b9282",
   "metadata": {
    "execution": {
     "iopub.execute_input": "2023-05-03T11:41:48.921395Z",
     "iopub.status.busy": "2023-05-03T11:41:48.920600Z",
     "iopub.status.idle": "2023-05-03T11:41:49.228520Z",
     "shell.execute_reply": "2023-05-03T11:41:49.227293Z"
    },
    "papermill": {
     "duration": 0.330453,
     "end_time": "2023-05-03T11:41:49.231029",
     "exception": false,
     "start_time": "2023-05-03T11:41:48.900576",
     "status": "completed"
    },
    "tags": []
   },
   "outputs": [
    {
     "data": {
      "image/png": "[encoded data removed]",
      "text/plain": [
       "<Figure size 1500x700 with 1 Axes>"
      ]
     },
     "metadata": {},
     "output_type": "display_data"
    }
   ],
   "source": [
    "plt.figure(figsize=(15,7))\n",
    "sns.barplot(x=Category[\"Category\"],y=Category[\"Count\"],data=Category,palette=\"Reds_r\",edgecolor=\"black\")\n",
    "plt.xlabel(\"Category of App\")\n",
    "plt.ylabel(\"Count\")\n",
    "plt.title(\"Top-10 Category\");\n"
   ]
  },
  {
   "cell_type": "markdown",
   "id": "d8ddbbda",
   "metadata": {
    "papermill": {
     "duration": 0.019097,
     "end_time": "2023-05-03T11:41:49.270149",
     "exception": false,
     "start_time": "2023-05-03T11:41:49.251052",
     "status": "completed"
    },
    "tags": []
   },
   "source": [
    "* We can see that Gameing Category are most available on Play store"
   ]
  },
  {
   "cell_type": "code",
   "execution_count": 31,
   "id": "5c11f66b",
   "metadata": {
    "execution": {
     "iopub.execute_input": "2023-05-03T11:41:49.311417Z",
     "iopub.status.busy": "2023-05-03T11:41:49.310359Z",
     "iopub.status.idle": "2023-05-03T11:41:49.333045Z",
     "shell.execute_reply": "2023-05-03T11:41:49.332207Z"
    },
    "papermill": {
     "duration": 0.045577,
     "end_time": "2023-05-03T11:41:49.335086",
     "exception": false,
     "start_time": "2023-05-03T11:41:49.289509",
     "status": "completed"
    },
    "tags": []
   },
   "outputs": [
    {
     "data": {
      "text/html": [
       "<div>\n",
       "<style scoped>\n",
       "    .dataframe tbody tr th:only-of-type {\n",
       "        vertical-align: middle;\n",
       "    }\n",
       "\n",
       "    .dataframe tbody tr th {\n",
       "        vertical-align: top;\n",
       "    }\n",
       "\n",
       "    .dataframe thead th {\n",
       "        text-align: right;\n",
       "    }\n",
       "</style>\n",
       "<table border=\"1\" class=\"dataframe\">\n",
       "  <thead>\n",
       "    <tr style=\"text-align: right;\">\n",
       "      <th></th>\n",
       "      <th>App</th>\n",
       "      <th>Category</th>\n",
       "      <th>Rating</th>\n",
       "      <th>Reviews</th>\n",
       "      <th>Size</th>\n",
       "      <th>Installs</th>\n",
       "      <th>Type</th>\n",
       "      <th>Price</th>\n",
       "      <th>Content Rating</th>\n",
       "      <th>Genres</th>\n",
       "      <th>Last Updated</th>\n",
       "      <th>Current Ver</th>\n",
       "      <th>Android Ver</th>\n",
       "    </tr>\n",
       "  </thead>\n",
       "  <tbody>\n",
       "    <tr>\n",
       "      <th>0</th>\n",
       "      <td>Photo Editor &amp; Candy Camera &amp; Grid &amp; ScrapBook</td>\n",
       "      <td>ART_AND_DESIGN</td>\n",
       "      <td>4.100000</td>\n",
       "      <td>159</td>\n",
       "      <td>19M</td>\n",
       "      <td>10,000+</td>\n",
       "      <td>Free</td>\n",
       "      <td>0</td>\n",
       "      <td>Everyone</td>\n",
       "      <td>Art &amp; Design</td>\n",
       "      <td>January 7, 2018</td>\n",
       "      <td>1.0.0</td>\n",
       "      <td>4.0.3 and up</td>\n",
       "    </tr>\n",
       "    <tr>\n",
       "      <th>1</th>\n",
       "      <td>Coloring book moana</td>\n",
       "      <td>ART_AND_DESIGN</td>\n",
       "      <td>3.900000</td>\n",
       "      <td>967</td>\n",
       "      <td>14M</td>\n",
       "      <td>500,000+</td>\n",
       "      <td>Free</td>\n",
       "      <td>0</td>\n",
       "      <td>Everyone</td>\n",
       "      <td>Art &amp; Design;Pretend Play</td>\n",
       "      <td>January 15, 2018</td>\n",
       "      <td>2.0.0</td>\n",
       "      <td>4.0.3 and up</td>\n",
       "    </tr>\n",
       "    <tr>\n",
       "      <th>2</th>\n",
       "      <td>U Launcher Lite – FREE Live Cool Themes, Hide ...</td>\n",
       "      <td>ART_AND_DESIGN</td>\n",
       "      <td>4.700000</td>\n",
       "      <td>87510</td>\n",
       "      <td>8.7M</td>\n",
       "      <td>5,000,000+</td>\n",
       "      <td>Free</td>\n",
       "      <td>0</td>\n",
       "      <td>Everyone</td>\n",
       "      <td>Art &amp; Design</td>\n",
       "      <td>August 1, 2018</td>\n",
       "      <td>1.2.4</td>\n",
       "      <td>4.0.3 and up</td>\n",
       "    </tr>\n",
       "    <tr>\n",
       "      <th>3</th>\n",
       "      <td>Sketch - Draw &amp; Paint</td>\n",
       "      <td>ART_AND_DESIGN</td>\n",
       "      <td>4.500000</td>\n",
       "      <td>215644</td>\n",
       "      <td>25M</td>\n",
       "      <td>50,000,000+</td>\n",
       "      <td>Free</td>\n",
       "      <td>0</td>\n",
       "      <td>Teen</td>\n",
       "      <td>Art &amp; Design</td>\n",
       "      <td>June 8, 2018</td>\n",
       "      <td>Varies with device</td>\n",
       "      <td>4.2 and up</td>\n",
       "    </tr>\n",
       "    <tr>\n",
       "      <th>4</th>\n",
       "      <td>Pixel Draw - Number Art Coloring Book</td>\n",
       "      <td>ART_AND_DESIGN</td>\n",
       "      <td>4.300000</td>\n",
       "      <td>967</td>\n",
       "      <td>2.8M</td>\n",
       "      <td>100,000+</td>\n",
       "      <td>Free</td>\n",
       "      <td>0</td>\n",
       "      <td>Everyone</td>\n",
       "      <td>Art &amp; Design;Creativity</td>\n",
       "      <td>June 20, 2018</td>\n",
       "      <td>1.1</td>\n",
       "      <td>4.4 and up</td>\n",
       "    </tr>\n",
       "    <tr>\n",
       "      <th>...</th>\n",
       "      <td>...</td>\n",
       "      <td>...</td>\n",
       "      <td>...</td>\n",
       "      <td>...</td>\n",
       "      <td>...</td>\n",
       "      <td>...</td>\n",
       "      <td>...</td>\n",
       "      <td>...</td>\n",
       "      <td>...</td>\n",
       "      <td>...</td>\n",
       "      <td>...</td>\n",
       "      <td>...</td>\n",
       "      <td>...</td>\n",
       "    </tr>\n",
       "    <tr>\n",
       "      <th>10836</th>\n",
       "      <td>Sya9a Maroc - FR</td>\n",
       "      <td>FAMILY</td>\n",
       "      <td>4.500000</td>\n",
       "      <td>38</td>\n",
       "      <td>53M</td>\n",
       "      <td>5,000+</td>\n",
       "      <td>Free</td>\n",
       "      <td>0</td>\n",
       "      <td>Everyone</td>\n",
       "      <td>Education</td>\n",
       "      <td>July 25, 2017</td>\n",
       "      <td>1.48</td>\n",
       "      <td>4.1 and up</td>\n",
       "    </tr>\n",
       "    <tr>\n",
       "      <th>10837</th>\n",
       "      <td>Fr. Mike Schmitz Audio Teachings</td>\n",
       "      <td>FAMILY</td>\n",
       "      <td>5.000000</td>\n",
       "      <td>4</td>\n",
       "      <td>3.6M</td>\n",
       "      <td>100+</td>\n",
       "      <td>Free</td>\n",
       "      <td>0</td>\n",
       "      <td>Everyone</td>\n",
       "      <td>Education</td>\n",
       "      <td>July 6, 2018</td>\n",
       "      <td>1.0</td>\n",
       "      <td>4.1 and up</td>\n",
       "    </tr>\n",
       "    <tr>\n",
       "      <th>10838</th>\n",
       "      <td>Parkinson Exercices FR</td>\n",
       "      <td>MEDICAL</td>\n",
       "      <td>4.193338</td>\n",
       "      <td>3</td>\n",
       "      <td>9.5M</td>\n",
       "      <td>1,000+</td>\n",
       "      <td>Free</td>\n",
       "      <td>0</td>\n",
       "      <td>Everyone</td>\n",
       "      <td>Medical</td>\n",
       "      <td>January 20, 2017</td>\n",
       "      <td>1.0</td>\n",
       "      <td>2.2 and up</td>\n",
       "    </tr>\n",
       "    <tr>\n",
       "      <th>10839</th>\n",
       "      <td>The SCP Foundation DB fr nn5n</td>\n",
       "      <td>BOOKS_AND_REFERENCE</td>\n",
       "      <td>4.500000</td>\n",
       "      <td>114</td>\n",
       "      <td>Varies with device</td>\n",
       "      <td>1,000+</td>\n",
       "      <td>Free</td>\n",
       "      <td>0</td>\n",
       "      <td>Mature 17+</td>\n",
       "      <td>Books &amp; Reference</td>\n",
       "      <td>January 19, 2015</td>\n",
       "      <td>Varies with device</td>\n",
       "      <td>Varies with device</td>\n",
       "    </tr>\n",
       "    <tr>\n",
       "      <th>10840</th>\n",
       "      <td>iHoroscope - 2018 Daily Horoscope &amp; Astrology</td>\n",
       "      <td>LIFESTYLE</td>\n",
       "      <td>4.500000</td>\n",
       "      <td>398307</td>\n",
       "      <td>19M</td>\n",
       "      <td>10,000,000+</td>\n",
       "      <td>Free</td>\n",
       "      <td>0</td>\n",
       "      <td>Everyone</td>\n",
       "      <td>Lifestyle</td>\n",
       "      <td>July 25, 2018</td>\n",
       "      <td>Varies with device</td>\n",
       "      <td>Varies with device</td>\n",
       "    </tr>\n",
       "  </tbody>\n",
       "</table>\n",
       "<p>10358 rows × 13 columns</p>\n",
       "</div>"
      ],
      "text/plain": [
       "                                                     App             Category  \\\n",
       "0         Photo Editor & Candy Camera & Grid & ScrapBook       ART_AND_DESIGN   \n",
       "1                                    Coloring book moana       ART_AND_DESIGN   \n",
       "2      U Launcher Lite – FREE Live Cool Themes, Hide ...       ART_AND_DESIGN   \n",
       "3                                  Sketch - Draw & Paint       ART_AND_DESIGN   \n",
       "4                  Pixel Draw - Number Art Coloring Book       ART_AND_DESIGN   \n",
       "...                                                  ...                  ...   \n",
       "10836                                   Sya9a Maroc - FR               FAMILY   \n",
       "10837                   Fr. Mike Schmitz Audio Teachings               FAMILY   \n",
       "10838                             Parkinson Exercices FR              MEDICAL   \n",
       "10839                      The SCP Foundation DB fr nn5n  BOOKS_AND_REFERENCE   \n",
       "10840      iHoroscope - 2018 Daily Horoscope & Astrology            LIFESTYLE   \n",
       "\n",
       "         Rating Reviews                Size     Installs  Type Price  \\\n",
       "0      4.100000     159                 19M      10,000+  Free     0   \n",
       "1      3.900000     967                 14M     500,000+  Free     0   \n",
       "2      4.700000   87510                8.7M   5,000,000+  Free     0   \n",
       "3      4.500000  215644                 25M  50,000,000+  Free     0   \n",
       "4      4.300000     967                2.8M     100,000+  Free     0   \n",
       "...         ...     ...                 ...          ...   ...   ...   \n",
       "10836  4.500000      38                 53M       5,000+  Free     0   \n",
       "10837  5.000000       4                3.6M         100+  Free     0   \n",
       "10838  4.193338       3                9.5M       1,000+  Free     0   \n",
       "10839  4.500000     114  Varies with device       1,000+  Free     0   \n",
       "10840  4.500000  398307                 19M  10,000,000+  Free     0   \n",
       "\n",
       "      Content Rating                     Genres      Last Updated  \\\n",
       "0           Everyone               Art & Design   January 7, 2018   \n",
       "1           Everyone  Art & Design;Pretend Play  January 15, 2018   \n",
       "2           Everyone               Art & Design    August 1, 2018   \n",
       "3               Teen               Art & Design      June 8, 2018   \n",
       "4           Everyone    Art & Design;Creativity     June 20, 2018   \n",
       "...              ...                        ...               ...   \n",
       "10836       Everyone                  Education     July 25, 2017   \n",
       "10837       Everyone                  Education      July 6, 2018   \n",
       "10838       Everyone                    Medical  January 20, 2017   \n",
       "10839     Mature 17+          Books & Reference  January 19, 2015   \n",
       "10840       Everyone                  Lifestyle     July 25, 2018   \n",
       "\n",
       "              Current Ver         Android Ver  \n",
       "0                   1.0.0        4.0.3 and up  \n",
       "1                   2.0.0        4.0.3 and up  \n",
       "2                   1.2.4        4.0.3 and up  \n",
       "3      Varies with device          4.2 and up  \n",
       "4                     1.1          4.4 and up  \n",
       "...                   ...                 ...  \n",
       "10836                1.48          4.1 and up  \n",
       "10837                 1.0          4.1 and up  \n",
       "10838                 1.0          2.2 and up  \n",
       "10839  Varies with device  Varies with device  \n",
       "10840  Varies with device  Varies with device  \n",
       "\n",
       "[10358 rows x 13 columns]"
      ]
     },
     "execution_count": 31,
     "metadata": {},
     "output_type": "execute_result"
    }
   ],
   "source": [
    "df"
   ]
  },
  {
   "cell_type": "markdown",
   "id": "238ac52d",
   "metadata": {
    "execution": {
     "iopub.execute_input": "2023-02-22T04:22:09.022338Z",
     "iopub.status.busy": "2023-02-22T04:22:09.021933Z",
     "iopub.status.idle": "2023-02-22T04:22:09.053577Z",
     "shell.execute_reply": "2023-02-22T04:22:09.052438Z",
     "shell.execute_reply.started": "2023-02-22T04:22:09.022311Z"
    },
    "papermill": {
     "duration": 0.019608,
     "end_time": "2023-05-03T11:41:49.374401",
     "exception": false,
     "start_time": "2023-05-03T11:41:49.354793",
     "status": "completed"
    },
    "tags": []
   },
   "source": [
    "# 3 )Find total number of free and paid apps"
   ]
  },
  {
   "cell_type": "code",
   "execution_count": 32,
   "id": "ffe9b517",
   "metadata": {
    "execution": {
     "iopub.execute_input": "2023-05-03T11:41:49.417574Z",
     "iopub.status.busy": "2023-05-03T11:41:49.416833Z",
     "iopub.status.idle": "2023-05-03T11:41:49.444494Z",
     "shell.execute_reply": "2023-05-03T11:41:49.443319Z"
    },
    "papermill": {
     "duration": 0.05202,
     "end_time": "2023-05-03T11:41:49.446815",
     "exception": false,
     "start_time": "2023-05-03T11:41:49.394795",
     "status": "completed"
    },
    "tags": []
   },
   "outputs": [
    {
     "data": {
      "text/html": [
       "<div>\n",
       "<style scoped>\n",
       "    .dataframe tbody tr th:only-of-type {\n",
       "        vertical-align: middle;\n",
       "    }\n",
       "\n",
       "    .dataframe tbody tr th {\n",
       "        vertical-align: top;\n",
       "    }\n",
       "\n",
       "    .dataframe thead th {\n",
       "        text-align: right;\n",
       "    }\n",
       "</style>\n",
       "<table border=\"1\" class=\"dataframe\">\n",
       "  <thead>\n",
       "    <tr style=\"text-align: right;\">\n",
       "      <th></th>\n",
       "      <th>App</th>\n",
       "      <th>Category</th>\n",
       "      <th>Rating</th>\n",
       "      <th>Reviews</th>\n",
       "      <th>Size</th>\n",
       "      <th>Installs</th>\n",
       "      <th>Type</th>\n",
       "      <th>Price</th>\n",
       "      <th>Content Rating</th>\n",
       "      <th>Genres</th>\n",
       "      <th>Last Updated</th>\n",
       "      <th>Current Ver</th>\n",
       "      <th>Android Ver</th>\n",
       "    </tr>\n",
       "  </thead>\n",
       "  <tbody>\n",
       "    <tr>\n",
       "      <th>0</th>\n",
       "      <td>Photo Editor &amp; Candy Camera &amp; Grid &amp; ScrapBook</td>\n",
       "      <td>ART_AND_DESIGN</td>\n",
       "      <td>4.100000</td>\n",
       "      <td>159</td>\n",
       "      <td>19M</td>\n",
       "      <td>10,000+</td>\n",
       "      <td>Free</td>\n",
       "      <td>0</td>\n",
       "      <td>Everyone</td>\n",
       "      <td>Art &amp; Design</td>\n",
       "      <td>January 7, 2018</td>\n",
       "      <td>1.0.0</td>\n",
       "      <td>4.0.3 and up</td>\n",
       "    </tr>\n",
       "    <tr>\n",
       "      <th>1</th>\n",
       "      <td>Coloring book moana</td>\n",
       "      <td>ART_AND_DESIGN</td>\n",
       "      <td>3.900000</td>\n",
       "      <td>967</td>\n",
       "      <td>14M</td>\n",
       "      <td>500,000+</td>\n",
       "      <td>Free</td>\n",
       "      <td>0</td>\n",
       "      <td>Everyone</td>\n",
       "      <td>Art &amp; Design;Pretend Play</td>\n",
       "      <td>January 15, 2018</td>\n",
       "      <td>2.0.0</td>\n",
       "      <td>4.0.3 and up</td>\n",
       "    </tr>\n",
       "    <tr>\n",
       "      <th>2</th>\n",
       "      <td>U Launcher Lite – FREE Live Cool Themes, Hide ...</td>\n",
       "      <td>ART_AND_DESIGN</td>\n",
       "      <td>4.700000</td>\n",
       "      <td>87510</td>\n",
       "      <td>8.7M</td>\n",
       "      <td>5,000,000+</td>\n",
       "      <td>Free</td>\n",
       "      <td>0</td>\n",
       "      <td>Everyone</td>\n",
       "      <td>Art &amp; Design</td>\n",
       "      <td>August 1, 2018</td>\n",
       "      <td>1.2.4</td>\n",
       "      <td>4.0.3 and up</td>\n",
       "    </tr>\n",
       "    <tr>\n",
       "      <th>3</th>\n",
       "      <td>Sketch - Draw &amp; Paint</td>\n",
       "      <td>ART_AND_DESIGN</td>\n",
       "      <td>4.500000</td>\n",
       "      <td>215644</td>\n",
       "      <td>25M</td>\n",
       "      <td>50,000,000+</td>\n",
       "      <td>Free</td>\n",
       "      <td>0</td>\n",
       "      <td>Teen</td>\n",
       "      <td>Art &amp; Design</td>\n",
       "      <td>June 8, 2018</td>\n",
       "      <td>Varies with device</td>\n",
       "      <td>4.2 and up</td>\n",
       "    </tr>\n",
       "    <tr>\n",
       "      <th>4</th>\n",
       "      <td>Pixel Draw - Number Art Coloring Book</td>\n",
       "      <td>ART_AND_DESIGN</td>\n",
       "      <td>4.300000</td>\n",
       "      <td>967</td>\n",
       "      <td>2.8M</td>\n",
       "      <td>100,000+</td>\n",
       "      <td>Free</td>\n",
       "      <td>0</td>\n",
       "      <td>Everyone</td>\n",
       "      <td>Art &amp; Design;Creativity</td>\n",
       "      <td>June 20, 2018</td>\n",
       "      <td>1.1</td>\n",
       "      <td>4.4 and up</td>\n",
       "    </tr>\n",
       "    <tr>\n",
       "      <th>...</th>\n",
       "      <td>...</td>\n",
       "      <td>...</td>\n",
       "      <td>...</td>\n",
       "      <td>...</td>\n",
       "      <td>...</td>\n",
       "      <td>...</td>\n",
       "      <td>...</td>\n",
       "      <td>...</td>\n",
       "      <td>...</td>\n",
       "      <td>...</td>\n",
       "      <td>...</td>\n",
       "      <td>...</td>\n",
       "      <td>...</td>\n",
       "    </tr>\n",
       "    <tr>\n",
       "      <th>10836</th>\n",
       "      <td>Sya9a Maroc - FR</td>\n",
       "      <td>FAMILY</td>\n",
       "      <td>4.500000</td>\n",
       "      <td>38</td>\n",
       "      <td>53M</td>\n",
       "      <td>5,000+</td>\n",
       "      <td>Free</td>\n",
       "      <td>0</td>\n",
       "      <td>Everyone</td>\n",
       "      <td>Education</td>\n",
       "      <td>July 25, 2017</td>\n",
       "      <td>1.48</td>\n",
       "      <td>4.1 and up</td>\n",
       "    </tr>\n",
       "    <tr>\n",
       "      <th>10837</th>\n",
       "      <td>Fr. Mike Schmitz Audio Teachings</td>\n",
       "      <td>FAMILY</td>\n",
       "      <td>5.000000</td>\n",
       "      <td>4</td>\n",
       "      <td>3.6M</td>\n",
       "      <td>100+</td>\n",
       "      <td>Free</td>\n",
       "      <td>0</td>\n",
       "      <td>Everyone</td>\n",
       "      <td>Education</td>\n",
       "      <td>July 6, 2018</td>\n",
       "      <td>1.0</td>\n",
       "      <td>4.1 and up</td>\n",
       "    </tr>\n",
       "    <tr>\n",
       "      <th>10838</th>\n",
       "      <td>Parkinson Exercices FR</td>\n",
       "      <td>MEDICAL</td>\n",
       "      <td>4.193338</td>\n",
       "      <td>3</td>\n",
       "      <td>9.5M</td>\n",
       "      <td>1,000+</td>\n",
       "      <td>Free</td>\n",
       "      <td>0</td>\n",
       "      <td>Everyone</td>\n",
       "      <td>Medical</td>\n",
       "      <td>January 20, 2017</td>\n",
       "      <td>1.0</td>\n",
       "      <td>2.2 and up</td>\n",
       "    </tr>\n",
       "    <tr>\n",
       "      <th>10839</th>\n",
       "      <td>The SCP Foundation DB fr nn5n</td>\n",
       "      <td>BOOKS_AND_REFERENCE</td>\n",
       "      <td>4.500000</td>\n",
       "      <td>114</td>\n",
       "      <td>Varies with device</td>\n",
       "      <td>1,000+</td>\n",
       "      <td>Free</td>\n",
       "      <td>0</td>\n",
       "      <td>Mature 17+</td>\n",
       "      <td>Books &amp; Reference</td>\n",
       "      <td>January 19, 2015</td>\n",
       "      <td>Varies with device</td>\n",
       "      <td>Varies with device</td>\n",
       "    </tr>\n",
       "    <tr>\n",
       "      <th>10840</th>\n",
       "      <td>iHoroscope - 2018 Daily Horoscope &amp; Astrology</td>\n",
       "      <td>LIFESTYLE</td>\n",
       "      <td>4.500000</td>\n",
       "      <td>398307</td>\n",
       "      <td>19M</td>\n",
       "      <td>10,000,000+</td>\n",
       "      <td>Free</td>\n",
       "      <td>0</td>\n",
       "      <td>Everyone</td>\n",
       "      <td>Lifestyle</td>\n",
       "      <td>July 25, 2018</td>\n",
       "      <td>Varies with device</td>\n",
       "      <td>Varies with device</td>\n",
       "    </tr>\n",
       "  </tbody>\n",
       "</table>\n",
       "<p>10358 rows × 13 columns</p>\n",
       "</div>"
      ],
      "text/plain": [
       "                                                     App             Category  \\\n",
       "0         Photo Editor & Candy Camera & Grid & ScrapBook       ART_AND_DESIGN   \n",
       "1                                    Coloring book moana       ART_AND_DESIGN   \n",
       "2      U Launcher Lite – FREE Live Cool Themes, Hide ...       ART_AND_DESIGN   \n",
       "3                                  Sketch - Draw & Paint       ART_AND_DESIGN   \n",
       "4                  Pixel Draw - Number Art Coloring Book       ART_AND_DESIGN   \n",
       "...                                                  ...                  ...   \n",
       "10836                                   Sya9a Maroc - FR               FAMILY   \n",
       "10837                   Fr. Mike Schmitz Audio Teachings               FAMILY   \n",
       "10838                             Parkinson Exercices FR              MEDICAL   \n",
       "10839                      The SCP Foundation DB fr nn5n  BOOKS_AND_REFERENCE   \n",
       "10840      iHoroscope - 2018 Daily Horoscope & Astrology            LIFESTYLE   \n",
       "\n",
       "         Rating Reviews                Size     Installs  Type Price  \\\n",
       "0      4.100000     159                 19M      10,000+  Free     0   \n",
       "1      3.900000     967                 14M     500,000+  Free     0   \n",
       "2      4.700000   87510                8.7M   5,000,000+  Free     0   \n",
       "3      4.500000  215644                 25M  50,000,000+  Free     0   \n",
       "4      4.300000     967                2.8M     100,000+  Free     0   \n",
       "...         ...     ...                 ...          ...   ...   ...   \n",
       "10836  4.500000      38                 53M       5,000+  Free     0   \n",
       "10837  5.000000       4                3.6M         100+  Free     0   \n",
       "10838  4.193338       3                9.5M       1,000+  Free     0   \n",
       "10839  4.500000     114  Varies with device       1,000+  Free     0   \n",
       "10840  4.500000  398307                 19M  10,000,000+  Free     0   \n",
       "\n",
       "      Content Rating                     Genres      Last Updated  \\\n",
       "0           Everyone               Art & Design   January 7, 2018   \n",
       "1           Everyone  Art & Design;Pretend Play  January 15, 2018   \n",
       "2           Everyone               Art & Design    August 1, 2018   \n",
       "3               Teen               Art & Design      June 8, 2018   \n",
       "4           Everyone    Art & Design;Creativity     June 20, 2018   \n",
       "...              ...                        ...               ...   \n",
       "10836       Everyone                  Education     July 25, 2017   \n",
       "10837       Everyone                  Education      July 6, 2018   \n",
       "10838       Everyone                    Medical  January 20, 2017   \n",
       "10839     Mature 17+          Books & Reference  January 19, 2015   \n",
       "10840       Everyone                  Lifestyle     July 25, 2018   \n",
       "\n",
       "              Current Ver         Android Ver  \n",
       "0                   1.0.0        4.0.3 and up  \n",
       "1                   2.0.0        4.0.3 and up  \n",
       "2                   1.2.4        4.0.3 and up  \n",
       "3      Varies with device          4.2 and up  \n",
       "4                     1.1          4.4 and up  \n",
       "...                   ...                 ...  \n",
       "10836                1.48          4.1 and up  \n",
       "10837                 1.0          4.1 and up  \n",
       "10838                 1.0          2.2 and up  \n",
       "10839  Varies with device  Varies with device  \n",
       "10840  Varies with device  Varies with device  \n",
       "\n",
       "[10358 rows x 13 columns]"
      ]
     },
     "execution_count": 32,
     "metadata": {},
     "output_type": "execute_result"
    }
   ],
   "source": [
    "df[\"Type\"]= df[\"Type\"].str.replace(\"0\",\"Paid\")\n",
    "df"
   ]
  },
  {
   "cell_type": "code",
   "execution_count": 33,
   "id": "fd572e8c",
   "metadata": {
    "execution": {
     "iopub.execute_input": "2023-05-03T11:41:49.490777Z",
     "iopub.status.busy": "2023-05-03T11:41:49.490046Z",
     "iopub.status.idle": "2023-05-03T11:41:49.499728Z",
     "shell.execute_reply": "2023-05-03T11:41:49.498280Z"
    },
    "papermill": {
     "duration": 0.034299,
     "end_time": "2023-05-03T11:41:49.502122",
     "exception": false,
     "start_time": "2023-05-03T11:41:49.467823",
     "status": "completed"
    },
    "tags": []
   },
   "outputs": [
    {
     "data": {
      "text/plain": [
       "Free    9592\n",
       "Paid     766\n",
       "Name: Type, dtype: int64"
      ]
     },
     "execution_count": 33,
     "metadata": {},
     "output_type": "execute_result"
    }
   ],
   "source": [
    "fr_pd=df.Type.value_counts()\n",
    "fr_pd"
   ]
  },
  {
   "cell_type": "code",
   "execution_count": 34,
   "id": "878ceb0e",
   "metadata": {
    "execution": {
     "iopub.execute_input": "2023-05-03T11:41:49.545915Z",
     "iopub.status.busy": "2023-05-03T11:41:49.545139Z",
     "iopub.status.idle": "2023-05-03T11:41:49.707147Z",
     "shell.execute_reply": "2023-05-03T11:41:49.706182Z"
    },
    "papermill": {
     "duration": 0.186458,
     "end_time": "2023-05-03T11:41:49.709464",
     "exception": false,
     "start_time": "2023-05-03T11:41:49.523006",
     "status": "completed"
    },
    "tags": []
   },
   "outputs": [
    {
     "data": {
      "image/png": "[encoded data removed]",
      "text/plain": [
       "<Figure size 1200x600 with 1 Axes>"
      ]
     },
     "metadata": {},
     "output_type": "display_data"
    }
   ],
   "source": [
    "plt.figure(figsize=(12,6),)\n",
    "sns.set_style(\"white\")\n",
    "color=sns.color_palette(\"Oranges_r\")\n",
    "plt.pie(fr_pd,labels=fr_pd.index,explode=(0,0.1),autopct=\"%0.1f%%\",shadow=True,colors=color,startangle=90);"
   ]
  },
  {
   "cell_type": "markdown",
   "id": "a7edb23b",
   "metadata": {
    "papermill": {
     "duration": 0.020929,
     "end_time": "2023-05-03T11:41:49.751584",
     "exception": false,
     "start_time": "2023-05-03T11:41:49.730655",
     "status": "completed"
    },
    "tags": []
   },
   "source": [
    "# 4) Top 10 Geners"
   ]
  },
  {
   "cell_type": "code",
   "execution_count": 35,
   "id": "adf8bb2b",
   "metadata": {
    "execution": {
     "iopub.execute_input": "2023-05-03T11:41:49.795612Z",
     "iopub.status.busy": "2023-05-03T11:41:49.795183Z",
     "iopub.status.idle": "2023-05-03T11:41:49.809191Z",
     "shell.execute_reply": "2023-05-03T11:41:49.808259Z"
    },
    "papermill": {
     "duration": 0.038747,
     "end_time": "2023-05-03T11:41:49.811433",
     "exception": false,
     "start_time": "2023-05-03T11:41:49.772686",
     "status": "completed"
    },
    "tags": []
   },
   "outputs": [
    {
     "data": {
      "text/html": [
       "<div>\n",
       "<style scoped>\n",
       "    .dataframe tbody tr th:only-of-type {\n",
       "        vertical-align: middle;\n",
       "    }\n",
       "\n",
       "    .dataframe tbody tr th {\n",
       "        vertical-align: top;\n",
       "    }\n",
       "\n",
       "    .dataframe thead th {\n",
       "        text-align: right;\n",
       "    }\n",
       "</style>\n",
       "<table border=\"1\" class=\"dataframe\">\n",
       "  <thead>\n",
       "    <tr style=\"text-align: right;\">\n",
       "      <th></th>\n",
       "      <th>index</th>\n",
       "      <th>Genres</th>\n",
       "    </tr>\n",
       "  </thead>\n",
       "  <tbody>\n",
       "    <tr>\n",
       "      <th>0</th>\n",
       "      <td>Tools</td>\n",
       "      <td>842</td>\n",
       "    </tr>\n",
       "    <tr>\n",
       "      <th>1</th>\n",
       "      <td>Entertainment</td>\n",
       "      <td>588</td>\n",
       "    </tr>\n",
       "    <tr>\n",
       "      <th>2</th>\n",
       "      <td>Education</td>\n",
       "      <td>527</td>\n",
       "    </tr>\n",
       "    <tr>\n",
       "      <th>3</th>\n",
       "      <td>Business</td>\n",
       "      <td>427</td>\n",
       "    </tr>\n",
       "    <tr>\n",
       "      <th>4</th>\n",
       "      <td>Medical</td>\n",
       "      <td>408</td>\n",
       "    </tr>\n",
       "    <tr>\n",
       "      <th>5</th>\n",
       "      <td>Productivity</td>\n",
       "      <td>407</td>\n",
       "    </tr>\n",
       "    <tr>\n",
       "      <th>6</th>\n",
       "      <td>Personalization</td>\n",
       "      <td>388</td>\n",
       "    </tr>\n",
       "    <tr>\n",
       "      <th>7</th>\n",
       "      <td>Lifestyle</td>\n",
       "      <td>372</td>\n",
       "    </tr>\n",
       "    <tr>\n",
       "      <th>8</th>\n",
       "      <td>Communication</td>\n",
       "      <td>366</td>\n",
       "    </tr>\n",
       "    <tr>\n",
       "      <th>9</th>\n",
       "      <td>Sports</td>\n",
       "      <td>364</td>\n",
       "    </tr>\n",
       "  </tbody>\n",
       "</table>\n",
       "</div>"
      ],
      "text/plain": [
       "             index  Genres\n",
       "0            Tools     842\n",
       "1    Entertainment     588\n",
       "2        Education     527\n",
       "3         Business     427\n",
       "4          Medical     408\n",
       "5     Productivity     407\n",
       "6  Personalization     388\n",
       "7        Lifestyle     372\n",
       "8    Communication     366\n",
       "9           Sports     364"
      ]
     },
     "execution_count": 35,
     "metadata": {},
     "output_type": "execute_result"
    }
   ],
   "source": [
    "genres=df[\"Genres\"].value_counts().sort_values(ascending=False)[0:10]\n",
    "genres=genres.reset_index()\n",
    "genres"
   ]
  },
  {
   "cell_type": "code",
   "execution_count": 36,
   "id": "9aa1723f",
   "metadata": {
    "execution": {
     "iopub.execute_input": "2023-05-03T11:41:49.856358Z",
     "iopub.status.busy": "2023-05-03T11:41:49.855264Z",
     "iopub.status.idle": "2023-05-03T11:41:49.866691Z",
     "shell.execute_reply": "2023-05-03T11:41:49.865760Z"
    },
    "papermill": {
     "duration": 0.035997,
     "end_time": "2023-05-03T11:41:49.868783",
     "exception": false,
     "start_time": "2023-05-03T11:41:49.832786",
     "status": "completed"
    },
    "tags": []
   },
   "outputs": [
    {
     "data": {
      "text/html": [
       "<div>\n",
       "<style scoped>\n",
       "    .dataframe tbody tr th:only-of-type {\n",
       "        vertical-align: middle;\n",
       "    }\n",
       "\n",
       "    .dataframe tbody tr th {\n",
       "        vertical-align: top;\n",
       "    }\n",
       "\n",
       "    .dataframe thead th {\n",
       "        text-align: right;\n",
       "    }\n",
       "</style>\n",
       "<table border=\"1\" class=\"dataframe\">\n",
       "  <thead>\n",
       "    <tr style=\"text-align: right;\">\n",
       "      <th></th>\n",
       "      <th>Genres</th>\n",
       "      <th>Counts</th>\n",
       "    </tr>\n",
       "  </thead>\n",
       "  <tbody>\n",
       "    <tr>\n",
       "      <th>0</th>\n",
       "      <td>Tools</td>\n",
       "      <td>842</td>\n",
       "    </tr>\n",
       "    <tr>\n",
       "      <th>1</th>\n",
       "      <td>Entertainment</td>\n",
       "      <td>588</td>\n",
       "    </tr>\n",
       "    <tr>\n",
       "      <th>2</th>\n",
       "      <td>Education</td>\n",
       "      <td>527</td>\n",
       "    </tr>\n",
       "    <tr>\n",
       "      <th>3</th>\n",
       "      <td>Business</td>\n",
       "      <td>427</td>\n",
       "    </tr>\n",
       "    <tr>\n",
       "      <th>4</th>\n",
       "      <td>Medical</td>\n",
       "      <td>408</td>\n",
       "    </tr>\n",
       "    <tr>\n",
       "      <th>5</th>\n",
       "      <td>Productivity</td>\n",
       "      <td>407</td>\n",
       "    </tr>\n",
       "    <tr>\n",
       "      <th>6</th>\n",
       "      <td>Personalization</td>\n",
       "      <td>388</td>\n",
       "    </tr>\n",
       "    <tr>\n",
       "      <th>7</th>\n",
       "      <td>Lifestyle</td>\n",
       "      <td>372</td>\n",
       "    </tr>\n",
       "    <tr>\n",
       "      <th>8</th>\n",
       "      <td>Communication</td>\n",
       "      <td>366</td>\n",
       "    </tr>\n",
       "    <tr>\n",
       "      <th>9</th>\n",
       "      <td>Sports</td>\n",
       "      <td>364</td>\n",
       "    </tr>\n",
       "  </tbody>\n",
       "</table>\n",
       "</div>"
      ],
      "text/plain": [
       "            Genres  Counts\n",
       "0            Tools     842\n",
       "1    Entertainment     588\n",
       "2        Education     527\n",
       "3         Business     427\n",
       "4          Medical     408\n",
       "5     Productivity     407\n",
       "6  Personalization     388\n",
       "7        Lifestyle     372\n",
       "8    Communication     366\n",
       "9           Sports     364"
      ]
     },
     "execution_count": 36,
     "metadata": {},
     "output_type": "execute_result"
    }
   ],
   "source": [
    "genres=genres.rename(mapper={\"index\":\"Genres\",\"Genres\":\"Counts\"},axis=1)\n",
    "genres"
   ]
  },
  {
   "cell_type": "code",
   "execution_count": 37,
   "id": "7a9d908c",
   "metadata": {
    "execution": {
     "iopub.execute_input": "2023-05-03T11:41:49.914000Z",
     "iopub.status.busy": "2023-05-03T11:41:49.912897Z",
     "iopub.status.idle": "2023-05-03T11:41:50.243046Z",
     "shell.execute_reply": "2023-05-03T11:41:50.241883Z"
    },
    "papermill": {
     "duration": 0.355714,
     "end_time": "2023-05-03T11:41:50.245904",
     "exception": false,
     "start_time": "2023-05-03T11:41:49.890190",
     "status": "completed"
    },
    "tags": []
   },
   "outputs": [
    {
     "data": {
      "text/plain": [
       "Text(0.5, 1.0, 'Top 10 Genres')"
      ]
     },
     "execution_count": 37,
     "metadata": {},
     "output_type": "execute_result"
    },
    {
     "data": {
      "image/png": "[encoded data removed]",
      "text/plain": [
       "<Figure size 1500x700 with 1 Axes>"
      ]
     },
     "metadata": {},
     "output_type": "display_data"
    }
   ],
   "source": [
    "plt.figure(figsize=(15,7))\n",
    "sns.barplot(x=genres[\"Genres\"],y=genres[\"Counts\"],data=genres,palette=\"Reds_r\",edgecolor=\"black\")\n",
    "plt.xticks(rotation=45)\n",
    "plt.xlabel(\"Genres\")\n",
    "plt.ylabel(\"Count\")\n",
    "plt.title(\"Top 10 Genres\")"
   ]
  },
  {
   "cell_type": "markdown",
   "id": "d892e2ac",
   "metadata": {
    "papermill": {
     "duration": 0.023643,
     "end_time": "2023-05-03T11:41:50.292627",
     "exception": false,
     "start_time": "2023-05-03T11:41:50.268984",
     "status": "completed"
    },
    "tags": []
   },
   "source": [
    "# 5) Top Ratings"
   ]
  },
  {
   "cell_type": "code",
   "execution_count": 38,
   "id": "98f920aa",
   "metadata": {
    "execution": {
     "iopub.execute_input": "2023-05-03T11:41:50.340291Z",
     "iopub.status.busy": "2023-05-03T11:41:50.339636Z",
     "iopub.status.idle": "2023-05-03T11:41:50.351930Z",
     "shell.execute_reply": "2023-05-03T11:41:50.350893Z"
    },
    "papermill": {
     "duration": 0.038378,
     "end_time": "2023-05-03T11:41:50.354040",
     "exception": false,
     "start_time": "2023-05-03T11:41:50.315662",
     "status": "completed"
    },
    "tags": []
   },
   "outputs": [
    {
     "data": {
      "text/html": [
       "<div>\n",
       "<style scoped>\n",
       "    .dataframe tbody tr th:only-of-type {\n",
       "        vertical-align: middle;\n",
       "    }\n",
       "\n",
       "    .dataframe tbody tr th {\n",
       "        vertical-align: top;\n",
       "    }\n",
       "\n",
       "    .dataframe thead th {\n",
       "        text-align: right;\n",
       "    }\n",
       "</style>\n",
       "<table border=\"1\" class=\"dataframe\">\n",
       "  <thead>\n",
       "    <tr style=\"text-align: right;\">\n",
       "      <th></th>\n",
       "      <th>index</th>\n",
       "      <th>Content Rating</th>\n",
       "    </tr>\n",
       "  </thead>\n",
       "  <tbody>\n",
       "    <tr>\n",
       "      <th>0</th>\n",
       "      <td>Everyone</td>\n",
       "      <td>8382</td>\n",
       "    </tr>\n",
       "    <tr>\n",
       "      <th>1</th>\n",
       "      <td>Teen</td>\n",
       "      <td>1146</td>\n",
       "    </tr>\n",
       "    <tr>\n",
       "      <th>2</th>\n",
       "      <td>Mature 17+</td>\n",
       "      <td>447</td>\n",
       "    </tr>\n",
       "    <tr>\n",
       "      <th>3</th>\n",
       "      <td>Everyone 10+</td>\n",
       "      <td>377</td>\n",
       "    </tr>\n",
       "    <tr>\n",
       "      <th>4</th>\n",
       "      <td>Adults only 18+</td>\n",
       "      <td>3</td>\n",
       "    </tr>\n",
       "    <tr>\n",
       "      <th>5</th>\n",
       "      <td>Unrated</td>\n",
       "      <td>3</td>\n",
       "    </tr>\n",
       "  </tbody>\n",
       "</table>\n",
       "</div>"
      ],
      "text/plain": [
       "             index  Content Rating\n",
       "0         Everyone            8382\n",
       "1             Teen            1146\n",
       "2       Mature 17+             447\n",
       "3     Everyone 10+             377\n",
       "4  Adults only 18+               3\n",
       "5          Unrated               3"
      ]
     },
     "execution_count": 38,
     "metadata": {},
     "output_type": "execute_result"
    }
   ],
   "source": [
    "content_rating=df[\"Content Rating\"].value_counts()\n",
    "content_rating=content_rating.reset_index()\n",
    "content_rating"
   ]
  },
  {
   "cell_type": "code",
   "execution_count": 39,
   "id": "579bdb4f",
   "metadata": {
    "execution": {
     "iopub.execute_input": "2023-05-03T11:41:50.402018Z",
     "iopub.status.busy": "2023-05-03T11:41:50.401333Z",
     "iopub.status.idle": "2023-05-03T11:41:50.411946Z",
     "shell.execute_reply": "2023-05-03T11:41:50.410981Z"
    },
    "papermill": {
     "duration": 0.037313,
     "end_time": "2023-05-03T11:41:50.413981",
     "exception": false,
     "start_time": "2023-05-03T11:41:50.376668",
     "status": "completed"
    },
    "tags": []
   },
   "outputs": [
    {
     "data": {
      "text/html": [
       "<div>\n",
       "<style scoped>\n",
       "    .dataframe tbody tr th:only-of-type {\n",
       "        vertical-align: middle;\n",
       "    }\n",
       "\n",
       "    .dataframe tbody tr th {\n",
       "        vertical-align: top;\n",
       "    }\n",
       "\n",
       "    .dataframe thead th {\n",
       "        text-align: right;\n",
       "    }\n",
       "</style>\n",
       "<table border=\"1\" class=\"dataframe\">\n",
       "  <thead>\n",
       "    <tr style=\"text-align: right;\">\n",
       "      <th></th>\n",
       "      <th>Content_Rating</th>\n",
       "      <th>Count</th>\n",
       "    </tr>\n",
       "  </thead>\n",
       "  <tbody>\n",
       "    <tr>\n",
       "      <th>0</th>\n",
       "      <td>Everyone</td>\n",
       "      <td>8382</td>\n",
       "    </tr>\n",
       "    <tr>\n",
       "      <th>1</th>\n",
       "      <td>Teen</td>\n",
       "      <td>1146</td>\n",
       "    </tr>\n",
       "    <tr>\n",
       "      <th>2</th>\n",
       "      <td>Mature 17+</td>\n",
       "      <td>447</td>\n",
       "    </tr>\n",
       "    <tr>\n",
       "      <th>3</th>\n",
       "      <td>Everyone 10+</td>\n",
       "      <td>377</td>\n",
       "    </tr>\n",
       "    <tr>\n",
       "      <th>4</th>\n",
       "      <td>Adults only 18+</td>\n",
       "      <td>3</td>\n",
       "    </tr>\n",
       "    <tr>\n",
       "      <th>5</th>\n",
       "      <td>Unrated</td>\n",
       "      <td>3</td>\n",
       "    </tr>\n",
       "  </tbody>\n",
       "</table>\n",
       "</div>"
      ],
      "text/plain": [
       "    Content_Rating  Count\n",
       "0         Everyone   8382\n",
       "1             Teen   1146\n",
       "2       Mature 17+    447\n",
       "3     Everyone 10+    377\n",
       "4  Adults only 18+      3\n",
       "5          Unrated      3"
      ]
     },
     "execution_count": 39,
     "metadata": {},
     "output_type": "execute_result"
    }
   ],
   "source": [
    "content_rating=content_rating.rename(mapper={\"index\":\"Content_Rating\",\"Content Rating\":\"Count\"},axis=1)\n",
    "content_rating"
   ]
  },
  {
   "cell_type": "code",
   "execution_count": 40,
   "id": "e3a99987",
   "metadata": {
    "execution": {
     "iopub.execute_input": "2023-05-03T11:41:50.462573Z",
     "iopub.status.busy": "2023-05-03T11:41:50.462140Z",
     "iopub.status.idle": "2023-05-03T11:41:50.776505Z",
     "shell.execute_reply": "2023-05-03T11:41:50.775233Z"
    },
    "papermill": {
     "duration": 0.341675,
     "end_time": "2023-05-03T11:41:50.779061",
     "exception": false,
     "start_time": "2023-05-03T11:41:50.437386",
     "status": "completed"
    },
    "tags": []
   },
   "outputs": [
    {
     "data": {
      "text/plain": [
       "Text(0.5, 1.0, 'Top Content_Rating')"
      ]
     },
     "execution_count": 40,
     "metadata": {},
     "output_type": "execute_result"
    },
    {
     "data": {
      "image/png": "[encoded data removed]",
      "text/plain": [
       "<Figure size 1500x700 with 1 Axes>"
      ]
     },
     "metadata": {},
     "output_type": "display_data"
    }
   ],
   "source": [
    "plt.figure(figsize=(15,7))\n",
    "sns.barplot(x=content_rating[\"Content_Rating\"],y=content_rating[\"Count\"],data=genres,palette=\"Reds_r\",edgecolor=\"black\")\n",
    "plt.xticks(rotation=45)\n",
    "plt.xlabel(\"Content_Rating\")\n",
    "plt.ylabel(\"Count\")\n",
    "plt.title(\"Top Content_Rating\")"
   ]
  },
  {
   "cell_type": "markdown",
   "id": "cbbbafe8",
   "metadata": {
    "papermill": {
     "duration": 0.023511,
     "end_time": "2023-05-03T11:41:50.826867",
     "exception": false,
     "start_time": "2023-05-03T11:41:50.803356",
     "status": "completed"
    },
    "tags": []
   },
   "source": [
    "# End EDA"
   ]
  }
 ],
 "metadata": {
  "kernelspec": {
   "display_name": "Python 3",
   "language": "python",
   "name": "python3"
  },
  "language_info": {
   "codemirror_mode": {
    "name": "ipython",
    "version": 3
   },
   "file_extension": ".py",
   "mimetype": "text/x-python",
   "name": "python",
   "nbconvert_exporter": "python",
   "pygments_lexer": "ipython3",
   "version": "3.7.12"
  },
  "papermill": {
   "default_parameters": {},
   "duration": 15.734984,
   "end_time": "2023-05-03T11:41:51.572998",
   "environment_variables": {},
   "exception": null,
   "input_path": "__notebook__.ipynb",
   "output_path": "__notebook__.ipynb",
   "parameters": {},
   "start_time": "2023-05-03T11:41:35.838014",
   "version": "2.3.4"
  }
 },
 "nbformat": 4,
 "nbformat_minor": 5
}
